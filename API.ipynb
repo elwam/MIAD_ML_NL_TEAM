{
 "cells": [
  {
   "cell_type": "code",
   "execution_count": 75,
   "id": "fcbdbbb3",
   "metadata": {},
   "outputs": [],
   "source": [
    "\n",
    "from flask import Flask, jsonify\n",
    "from flask_restx import Api, Resource, fields, reqparse\n",
    "import pickle\n",
    "from watchdog.events import EVENT_TYPE_CREATED, EVENT_TYPE_OPENED\n",
    "import pandas as pd\n"
   ]
  },
  {
   "cell_type": "code",
   "execution_count": 76,
   "id": "0616c15b",
   "metadata": {},
   "outputs": [],
   "source": [
    "app = Flask(__name__)\n",
    "api = Api(app, version='1.0', title='Modelo de Predicción de Precios de Autos',\n",
    "          description='API para predecir el precio de un auto según sus características TEAM WPS')\n"
   ]
  },
  {
   "cell_type": "code",
   "execution_count": 77,
   "id": "cfa59b6b",
   "metadata": {},
   "outputs": [
    {
     "name": "stdout",
     "output_type": "stream",
     "text": [
      " * Serving Flask app '__main__'\n",
      " * Debug mode: on\n"
     ]
    },
    {
     "name": "stderr",
     "output_type": "stream",
     "text": [
      "WARNING: This is a development server. Do not use it in a production deployment. Use a production WSGI server instead.\n",
      " * Running on all addresses (0.0.0.0)\n",
      " * Running on http://127.0.0.1:5000\n",
      " * Running on http://192.168.0.80:5000\n",
      "Press CTRL+C to quit\n",
      "127.0.0.1 - - [01/May/2023 21:23:22] \"GET /predict?Year=2010&Mileage=9913&State=FL&Make=Jeep&Model=Wrangler HTTP/1.1\" 200 -\n"
     ]
    },
    {
     "name": "stdout",
     "output_type": "stream",
     "text": [
      "Argumentos recibidos: {'Year': 2010, 'Mileage': 9913, 'State': 'FL', 'Make': 'Jeep', 'Model': 'Wrangler'}\n",
      "DataFrame generado: \n",
      "   Year  Mileage State  Make     Model\n",
      "0  2010     9913    FL  Jeep  Wrangler\n",
      "DataFrame transformado: \n",
      "  (0, 0)\t-0.9692905216605613\n",
      "  (0, 1)\t-1.1044085958703047\n",
      "  (0, 70)\t1.0\n",
      "  (0, 580)\t1.0\n",
      "Precio predicho: 29683.193223309034\n"
     ]
    },
    {
     "name": "stderr",
     "output_type": "stream",
     "text": [
      "127.0.0.1 - - [01/May/2023 21:23:29] \"GET / HTTP/1.1\" 200 -\n",
      "127.0.0.1 - - [01/May/2023 21:23:29] \"GET /swaggerui/droid-sans.css HTTP/1.1\" 304 -\n",
      "127.0.0.1 - - [01/May/2023 21:23:29] \"GET /swaggerui/swagger-ui.css HTTP/1.1\" 304 -\n",
      "127.0.0.1 - - [01/May/2023 21:23:29] \"GET /swaggerui/swagger-ui-bundle.js HTTP/1.1\" 304 -\n",
      "127.0.0.1 - - [01/May/2023 21:23:29] \"GET /swaggerui/swagger-ui-standalone-preset.js HTTP/1.1\" 304 -\n",
      "127.0.0.1 - - [01/May/2023 21:23:30] \"GET /swagger.json HTTP/1.1\" 200 -\n",
      "127.0.0.1 - - [01/May/2023 21:23:30] \"GET /swaggerui/favicon-32x32.png HTTP/1.1\" 304 -\n",
      "127.0.0.1 - - [01/May/2023 21:23:49] \"GET /predict?Year=2017&Mileage=9913&State=FL&Make=Jeep&Model=Wrangler HTTP/1.1\" 200 -\n"
     ]
    },
    {
     "name": "stdout",
     "output_type": "stream",
     "text": [
      "Argumentos recibidos: {'Year': 2017, 'Mileage': 9913, 'State': 'FL', 'Make': 'Jeep', 'Model': 'Wrangler'}\n",
      "DataFrame generado: \n",
      "   Year  Mileage State  Make     Model\n",
      "0  2017     9913    FL  Jeep  Wrangler\n",
      "DataFrame transformado: \n",
      "  (0, 0)\t1.156306501219685\n",
      "  (0, 1)\t-1.1044085958703047\n",
      "  (0, 70)\t1.0\n",
      "  (0, 580)\t1.0\n",
      "Precio predicho: 38381.72163895606\n"
     ]
    }
   ],
   "source": [
    "# Procesamiento de los datos de Entrada\n",
    "#Importación del modelo a utilizar \n",
    "model = pickle.load(open('modelo_entrenado.pkl', 'rb'))\n",
    "\n",
    "pipeline = pickle.load(open('preprocessor.pkl', 'rb'))\n",
    "\n",
    "# Creación del namespace para los endpoints\n",
    "namespace = api.namespace('predict', description='Predicción de precios de vehiculos')\n",
    "\n",
    "parser = api.parser()\n",
    "parser.add_argument('Year', type=int, required=True, help='Modelo del Auto (Año)', location='args')\n",
    "parser.add_argument('Mileage', type=int, required=True, help='Millas Recorridas', location='args')\n",
    "parser.add_argument('State', type=str, required=True, help='Estado donde se encuentra el vehiculo', location='args')\n",
    "parser.add_argument('Make', type=str, required=True, help='Marca', location='args')\n",
    "parser.add_argument('Model', type=str, required=True, help='Modelo', location='args')\n",
    "\n",
    "resource_fields = api.model('Resource', {\n",
    "    'result': fields.String,\n",
    "})\n",
    "\n",
    "\n",
    "@api.route('/predict')\n",
    "class Predict(Resource):\n",
    "    @api.doc(parser=parser)\n",
    "    def get(self):\n",
    "        # Parseamos los parámetros de entrada\n",
    "        args = parser.parse_args()\n",
    "        print(f'Argumentos recibidos: {args}')\n",
    "        \n",
    "        # Creamos una matriz con los valores de entrada\n",
    "        input_data = [[args['Year'], args['Mileage'], args['State'], args['Make'], args['Model']]]\n",
    "        df = pd.DataFrame(input_data, columns=['Year', 'Mileage', 'State', 'Make', 'Model'])\n",
    "        print(f'DataFrame generado: \\n{df}')\n",
    "        \n",
    "        # Transformamos los valores de entrada utilizando el preprocesador\n",
    "        input_data_transformed = pipeline.transform(df)\n",
    "        print(f'DataFrame transformado: \\n{input_data_transformed}')\n",
    "        \n",
    "        \n",
    "        # Realizamos la predicción utilizando el modelo entrenado\n",
    "        predicted_price = model.predict(input_data_transformed)\n",
    "        print(f'Precio predicho: {predicted_price[0]}')\n",
    "        \n",
    "        \n",
    "        # Devolvemos la predicción como un diccionario JSON\n",
    "        return jsonify({'predicted_price': predicted_price[0]})\n",
    "        \n",
    "    \n",
    "if __name__ == '__main__':\n",
    "    app.run(debug=True, use_reloader=False, host='0.0.0.0', port=5000)"
   ]
  }
 ],
 "metadata": {
  "kernelspec": {
   "display_name": "Python 3 (ipykernel)",
   "language": "python",
   "name": "python3"
  },
  "language_info": {
   "codemirror_mode": {
    "name": "ipython",
    "version": 3
   },
   "file_extension": ".py",
   "mimetype": "text/x-python",
   "name": "python",
   "nbconvert_exporter": "python",
   "pygments_lexer": "ipython3",
   "version": "3.9.7"
  }
 },
 "nbformat": 4,
 "nbformat_minor": 5
}
