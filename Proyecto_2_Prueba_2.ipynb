{
 "cells": [
  {
   "cell_type": "markdown",
   "id": "aeb7dd9b",
   "metadata": {},
   "source": [
    "![image info](https://raw.githubusercontent.com/albahnsen/MIAD_ML_and_NLP/main/images/banner_1.png)"
   ]
  },
  {
   "cell_type": "markdown",
   "id": "d01d2195",
   "metadata": {},
   "source": [
    "# Proyecto 2 - Clasificación de género de películas\n",
    "\n",
    "El propósito de este proyecto es que puedan poner en práctica, en sus respectivos grupos de trabajo, sus conocimientos sobre técnicas de preprocesamiento, modelos predictivos de NLP, y la disponibilización de modelos. Para su desarrollo tengan en cuenta las instrucciones dadas en la \"Guía del proyecto 2: Clasificación de género de películas\"\n",
    "\n",
    "**Entrega**: La entrega del proyecto deberán realizarla durante la semana 8. Sin embargo, es importante que avancen en la semana 7 en el modelado del problema y en parte del informe, tal y como se les indicó en la guía.\n",
    "\n",
    "Para hacer la entrega, deberán adjuntar el informe autocontenido en PDF a la actividad de entrega del proyecto que encontrarán en la semana 8, y subir el archivo de predicciones a la [competencia de Kaggle](https://www.kaggle.com/t/2c54d005f76747fe83f77fbf8b3ec232)."
   ]
  },
  {
   "cell_type": "markdown",
   "id": "2564f386",
   "metadata": {},
   "source": [
    "## Datos para la predicción de género en películas"
   ]
  },
  {
   "cell_type": "markdown",
   "id": "961b20a3",
   "metadata": {},
   "source": [
    "![image info](https://raw.githubusercontent.com/albahnsen/MIAD_ML_and_NLP/main/images/moviegenre.png)"
   ]
  },
  {
   "cell_type": "markdown",
   "id": "6e59eb23",
   "metadata": {},
   "source": [
    "En este proyecto se usará un conjunto de datos de géneros de películas. Cada observación contiene el título de una película, su año de lanzamiento, la sinopsis o plot de la película (resumen de la trama) y los géneros a los que pertenece (una película puede pertenercer a más de un género). Por ejemplo:\n",
    "- Título: 'How to Be a Serial Killer'\n",
    "- Plot: 'A serial killer decides to teach the secrets of his satisfying career to a video store clerk.'\n",
    "- Generos: 'Comedy', 'Crime', 'Horror'\n",
    "\n",
    "La idea es que usen estos datos para predecir la probabilidad de que una película pertenezca, dada la sinopsis, a cada uno de los géneros."
   ]
  },
  {
   "cell_type": "markdown",
   "id": "5a3f001a",
   "metadata": {},
   "source": [
    "Agradecemos al profesor Fabio González, Ph.D. y a su alumno John Arevalo por proporcionar este conjunto de datos. Ver https://arxiv.org/abs/1702.01992"
   ]
  },
  {
   "cell_type": "markdown",
   "id": "b17baa7b",
   "metadata": {},
   "source": [
    "## Ejemplo predicción conjunto de test para envío a Kaggle\n",
    "En esta sección encontrarán el formato en el que deben guardar los resultados de la predicción para que puedan subirlos a la competencia en Kaggle."
   ]
  },
  {
   "cell_type": "code",
   "execution_count": 4,
   "id": "b6d301bb",
   "metadata": {},
   "outputs": [],
   "source": [
    "import warnings\n",
    "warnings.filterwarnings('ignore')"
   ]
  },
  {
   "cell_type": "code",
   "execution_count": 5,
   "id": "7d3fba55",
   "metadata": {},
   "outputs": [],
   "source": [
    "# Importación librerías\n",
    "import pandas as pd\n",
    "import os\n",
    "import numpy as np\n",
    "from sklearn.feature_extraction.text import CountVectorizer\n",
    "from sklearn.preprocessing import MultiLabelBinarizer\n",
    "from sklearn.multiclass import OneVsRestClassifier\n",
    "from sklearn.ensemble import RandomForestRegressor, RandomForestClassifier\n",
    "from sklearn.metrics import r2_score, roc_auc_score\n",
    "from sklearn.model_selection import train_test_split"
   ]
  },
  {
   "cell_type": "code",
   "execution_count": 22,
   "id": "b302e4f8",
   "metadata": {},
   "outputs": [],
   "source": [
    "# Carga de datos de archivo .csv\n",
    "dataTraining = pd.read_csv('https://github.com/albahnsen/MIAD_ML_and_NLP/raw/main/datasets/dataTraining.zip', encoding='UTF-8', index_col=0)\n",
    "dataTesting = pd.read_csv('https://github.com/albahnsen/MIAD_ML_and_NLP/raw/main/datasets/dataTesting.zip', encoding='UTF-8', index_col=0)"
   ]
  },
  {
   "cell_type": "markdown",
   "id": "3d14e684",
   "metadata": {},
   "source": [
    "# Exploración del set de datos para entrenamiento"
   ]
  },
  {
   "cell_type": "code",
   "execution_count": 23,
   "id": "85f26bd7",
   "metadata": {},
   "outputs": [],
   "source": [
    "df = dataTraining"
   ]
  },
  {
   "cell_type": "code",
   "execution_count": 24,
   "id": "62b2f2a8",
   "metadata": {},
   "outputs": [
    {
     "name": "stdout",
     "output_type": "stream",
     "text": [
      "====================================================================================================\n",
      "Registros y columnas del set de datos:\n",
      "(7895, 5)\n",
      "====================================================================================================\n",
      "Metadatos del set de datos:\n",
      "<class 'pandas.core.frame.DataFrame'>\n",
      "Int64Index: 7895 entries, 3107 to 215\n",
      "Data columns (total 5 columns):\n",
      " #   Column  Non-Null Count  Dtype  \n",
      "---  ------  --------------  -----  \n",
      " 0   year    7895 non-null   int64  \n",
      " 1   title   7895 non-null   object \n",
      " 2   plot    7895 non-null   object \n",
      " 3   genres  7895 non-null   object \n",
      " 4   rating  7895 non-null   float64\n",
      "dtypes: float64(1), int64(1), object(3)\n",
      "memory usage: 370.1+ KB\n",
      "None\n",
      "====================================================================================================\n",
      "Descripción del set de datos:\n",
      "              year       rating\n",
      "count  7895.000000  7895.000000\n",
      "mean   1989.726409     6.402812\n",
      "std      22.660717     1.078260\n",
      "min    1894.000000     1.200000\n",
      "25%    1980.000000     5.800000\n",
      "50%    1997.000000     6.500000\n",
      "75%    2007.000000     7.200000\n",
      "max    2015.000000     9.300000\n",
      "====================================================================================================\n",
      "Validación de datos faltantes en el set de datos\n",
      "        Total No. Faltantes\n",
      "year                      0\n",
      "title                     0\n",
      "plot                      0\n",
      "genres                    0\n",
      "rating                    0\n",
      "====================================================================================================\n",
      "Validación de duplicados en el set de datos\n",
      "Registros duplicados: 1\n"
     ]
    }
   ],
   "source": [
    "lineas= '='*100\n",
    "print(lineas)\n",
    "print(\"Registros y columnas del set de datos:\")\n",
    "print(df.shape)\n",
    "print(lineas)\n",
    "print(\"Metadatos del set de datos:\")\n",
    "print(df.info())\n",
    "print(lineas)\n",
    "print(\"Descripción del set de datos:\")\n",
    "print(df.describe())\n",
    "print(lineas)\n",
    "print(\"Validación de datos faltantes en el set de datos\")\n",
    "print(df.isnull().sum().to_frame().rename(columns={0:\"Total No. Faltantes\"}))\n",
    "print(lineas)\n",
    "print(\"Validación de duplicados en el set de datos\")\n",
    "print(\"Registros duplicados:\",df.duplicated().sum())"
   ]
  },
  {
   "cell_type": "markdown",
   "id": "4992ad63",
   "metadata": {},
   "source": [
    "## Resultado del análisis \n",
    "\n",
    "Para el entrenamiento del modelo de clasificación de múltiples etiquetas, se nos entrega un set de datos con las isguientes características.\n",
    "\n",
    "* Set de datos con un total de 7.895 registros y 5 columnas\n",
    "* Las columnas que contiene el set de datos son las siguientes:\n",
    "\n",
    "    | Columna | Descripción |\n",
    "    |---------|-------------|\n",
    "    | year | Año de estreno de la pelicula|\n",
    "    | tittle | Título de la pelicula |\n",
    "    | plot | Trama de la pelicula |\n",
    "    | genres | Genero o generos de la pelicula |\n",
    "    | rating | Calificación de la película |\n",
    "    \n",
    "\n",
    "* No se encuentra datos faltantes dentro del set de datos para ninguna de las columnas.\n",
    "* Se evidencia que dentro del set de datos existe 1 registro duplicado el cual será eliminado para entrenar el modelo y las respectivas validaciones.\n",
    "\n"
   ]
  },
  {
   "cell_type": "code",
   "execution_count": 25,
   "id": "af68c1fb",
   "metadata": {},
   "outputs": [
    {
     "name": "stdout",
     "output_type": "stream",
     "text": [
      "(7894, 5)\n"
     ]
    }
   ],
   "source": [
    "#Eliminar duplicados del set de datos\n",
    "df.drop_duplicates(inplace=True)\n",
    "print(df.shape)"
   ]
  },
  {
   "cell_type": "code",
   "execution_count": 26,
   "id": "bb6e105e",
   "metadata": {},
   "outputs": [],
   "source": [
    "df['genres'] = df['genres'].map(lambda x: eval(x))"
   ]
  },
  {
   "cell_type": "markdown",
   "id": "7c080009",
   "metadata": {},
   "source": [
    "# Análisis descriptivo del set de datos"
   ]
  },
  {
   "cell_type": "code",
   "execution_count": 43,
   "id": "cb59b39e",
   "metadata": {},
   "outputs": [
    {
     "data": {
      "image/png": "[encoded data removed]",
      "text/plain": [
       "<Figure size 720x432 with 1 Axes>"
      ]
     },
     "metadata": {
      "needs_background": "light"
     },
     "output_type": "display_data"
    }
   ],
   "source": [
    "import matplotlib.pyplot as plt\n",
    "import seaborn as sns\n",
    "\n",
    "#Graficar los generos en cada pelicula \n",
    "\n",
    "genre_counts = df['genres'].explode().value_counts()\n",
    "\n",
    "plt.figure(figsize=(10, 6))\n",
    "genre_counts.plot(kind='bar')\n",
    "#sns.barplot(x=counts.index, y=counts.values)\n",
    "plt.xlabel('Género')\n",
    "plt.ylabel('Conteo')\n",
    "plt.title('Conteo de películas por género', pad=10, fontweight=\"black\", fontsize=20)\n",
    "plt.xticks(rotation=90)\n",
    "plt.tight_layout()\n",
    "plt.show()"
   ]
  },
  {
   "cell_type": "code",
   "execution_count": 44,
   "id": "d145e8f3",
   "metadata": {},
   "outputs": [
    {
     "data": {
      "image/png": "[encoded data removed]",
      "text/plain": [
       "<Figure size 1152x432 with 1 Axes>"
      ]
     },
     "metadata": {
      "needs_background": "light"
     },
     "output_type": "display_data"
    }
   ],
   "source": [
    "plt.figure(figsize=(16,6))\n",
    "counts = df[\"year\"].value_counts()\n",
    "counts.plot(kind='bar')\n",
    "plt.xlabel(\"Año Estreno\")\n",
    "plt.ylabel(\"Peliculas\")\n",
    "plt.title(\"Total de peliculas por año de estreno\", pad=20, fontweight=\"black\", fontsize=20)\n",
    "plt.xticks(rotation=90)\n",
    "plt.show()"
   ]
  },
  {
   "cell_type": "code",
   "execution_count": 56,
   "id": "aa0c1c4b",
   "metadata": {},
   "outputs": [
    {
     "data": {
      "image/png": "[encoded data removed]",
      "text/plain": [
       "<Figure size 1152x432 with 1 Axes>"
      ]
     },
     "metadata": {
      "needs_background": "light"
     },
     "output_type": "display_data"
    }
   ],
   "source": [
    "df['genre_count'] = df['genres'].apply(lambda x: len(x))\n",
    "\n",
    "plt.figure(figsize=(16,6))\n",
    "counts = df[\"genre_count\"].value_counts()\n",
    "counts.plot(kind='bar')\n",
    "plt.xlabel(\"Géneros\")\n",
    "plt.ylabel(\"Peliculas\")\n",
    "plt.title(\"Total de peliculas por cantidad de géneros\", pad=20, fontweight=\"black\", fontsize=20)\n",
    "plt.xticks(rotation=90)\n",
    "plt.show()"
   ]
  },
  {
   "cell_type": "markdown",
   "id": "28b676c7",
   "metadata": {},
   "source": [
    "## Resultado del análisis \n",
    "\n",
    "Luego de hacer el análisis del set de datos, se tienen las siguientes métricas \n",
    "\n",
    "* Existe un total de 24 géneros diferentes dentro del set de datos, siendo Drama y Comedia los géneros con mayoria de peliculas.\n",
    "* El set de datos se compone por películas que van desde el año 1914 al año 2013.\n",
    "* La mayoria de películas cuenta con 3 o 2 géneros decntro de su clasifiación."
   ]
  },
  {
   "cell_type": "markdown",
   "id": "2f83ee4b",
   "metadata": {},
   "source": [
    "## Preprocesamiento de datos"
   ]
  },
  {
   "cell_type": "code",
   "execution_count": 77,
   "id": "354dde9a",
   "metadata": {},
   "outputs": [],
   "source": [
    "# Funciones oara el proceso \n",
    "from sklearn.metrics import precision_score, recall_score\n",
    "\n",
    "a_accuracy = []\n",
    "a_precision = []\n",
    "a_recall = []\n",
    "a_roc_auc = []\n",
    "a_modelo = []\n",
    "\n",
    "def evaluacion_prediccion_clasificacion (model, xtrain, ytrain, xtest, ytest, modelo):\n",
    "    model.fit(xtrain,ytrain)\n",
    "    y_test_pred = model.predict(xtest)\n",
    "    #Métricas del modelo\n",
    "    accuracy = np.mean(ytest == y_test_pred)\n",
    "    precision = precision_score(ytest, y_test_pred, average='macro')\n",
    "    recall = recall_score(ytest, y_test_pred, average='macro')\n",
    "    roc_auc = roc_auc_score(ytest, y_test_pred, average='macro')\n",
    "    \n",
    "    a_accuracy.append(accuracy)\n",
    "    a_precision.append(precision)\n",
    "    a_recall.append(recall)\n",
    "    a_roc_auc.append(roc_auc)\n",
    "    a_modelo.append(modelo)\n",
    "    \n",
    "    print(f\"accuracy de {modelo} es:\",accuracy)\n",
    "    print(f\"precision de {modelo} es:\",precision)\n",
    "    print(f\"recall de {modelo} es:\",recall)\n",
    "    print(f\"roc_auc de {modelo} es:\",roc_auc)\n",
    "    \n",
    "    \n",
    "def gdd(x):\n",
    "    a=x.split()\n",
    "    return len(a)\n",
    "\n",
    "\n",
    "import re\n",
    "\n",
    "def decontracted(phrase):\n",
    "    # specific\n",
    "    phrase = re.sub(r\"won't\", \"will not\", phrase)\n",
    "    phrase = re.sub(r\"can\\'t\", \"can not\", phrase)\n",
    "\n",
    "    # general\n",
    "    phrase = re.sub(r\"n\\'t\", \" not\", phrase)\n",
    "    phrase = re.sub(r\"\\'re\", \" are\", phrase)\n",
    "    phrase = re.sub(r\"\\'s\", \" is\", phrase)\n",
    "    phrase = re.sub(r\"\\'d\", \" would\", phrase)\n",
    "    phrase = re.sub(r\"\\'ll\", \" will\", phrase)\n",
    "    phrase = re.sub(r\"\\'t\", \" not\", phrase)\n",
    "    phrase = re.sub(r\"\\'ve\", \" have\", phrase)\n",
    "    phrase = re.sub(r\"\\'m\", \" am\", phrase)\n",
    "    return phrase\n",
    "\n",
    "\n",
    "stopwords= set(['br', 'the', 'i', 'me', 'my', 'myself', 'we', 'our', 'ours', 'ourselves', 'you', \"you're\", \"you've\",\\\n",
    "            \"you'll\", \"you'd\", 'your', 'yours', 'yourself', 'yourselves', 'he', 'him', 'his', 'himself', \\\n",
    "            'she', \"she's\", 'her', 'hers', 'herself', 'it', \"it's\", 'its', 'itself', 'they', 'them', 'their',\\\n",
    "            'theirs', 'themselves', 'what', 'which', 'who', 'whom', 'this', 'that', \"that'll\", 'these', 'those', \\\n",
    "            'am', 'is', 'are', 'was', 'were', 'be', 'been', 'being', 'have', 'has', 'had', 'having', 'do', 'does', \\\n",
    "            'did', 'doing', 'a', 'an', 'the', 'and', 'but', 'if', 'or', 'because', 'as', 'until', 'while', 'of', \\\n",
    "            'at', 'by', 'for', 'with', 'about', 'against', 'between', 'into', 'through', 'during', 'before', 'after',\\\n",
    "            'above', 'below', 'to', 'from', 'up', 'down', 'in', 'out', 'on', 'off', 'over', 'under', 'again', 'further',\\\n",
    "            'then', 'once', 'here', 'there', 'when', 'where', 'why', 'how', 'all', 'any', 'both', 'each', 'few', 'more',\\\n",
    "            'most', 'other', 'some', 'such', 'only', 'own', 'same', 'so', 'than', 'too', 'very', \\\n",
    "            's', 't', 'can', 'will', 'just', 'don', \"don't\", 'should', \"should've\", 'now', 'd', 'll', 'm', 'o', 're', \\\n",
    "            've', 'y', 'ain', 'aren', \"aren't\", 'couldn', \"couldn't\", 'didn', \"didn't\", 'doesn', \"doesn't\", 'hadn',\\\n",
    "            \"hadn't\", 'hasn', \"hasn't\", 'haven', \"haven't\", 'isn', \"isn't\", 'ma', 'mightn', \"mightn't\", 'mustn',\\\n",
    "            \"mustn't\", 'needn', \"needn't\", 'shan', \"shan't\", 'shouldn', \"shouldn't\", 'wasn', \"wasn't\", 'weren', \"weren't\", \\\n",
    "            'won', \"won't\", 'wouldn', \"wouldn't\"])"
   ]
  },
  {
   "cell_type": "code",
   "execution_count": 60,
   "id": "aab3d075",
   "metadata": {},
   "outputs": [],
   "source": [
    "# Limepieza del plot de la pelicula\n",
    "\n",
    "from tqdm import tqdm\n",
    "preprocessed_plot = []\n",
    "\n",
    "for sentance in df['plot'].values:\n",
    "    sentance = decontracted(sentance)\n",
    "    sentance = re.sub('[^A-Za-z]+', ' ', sentance)\n",
    "    sentance = ' '.join(e.lower() for e in sentance.split() if e.lower() not in stopwords)\n",
    "    preprocessed_plot.append(sentance.strip())\n",
    "\n",
    "df['preprocessed_plot']=preprocessed_plot"
   ]
  },
  {
   "cell_type": "code",
   "execution_count": 71,
   "id": "14c4c022",
   "metadata": {},
   "outputs": [
    {
     "data": {
      "text/plain": [
       "(7894, 474667)"
      ]
     },
     "execution_count": 71,
     "metadata": {},
     "output_type": "execute_result"
    }
   ],
   "source": [
    "# Vetorizaciòn \n",
    "from sklearn.feature_extraction.text import CountVectorizer, TfidfTransformer\n",
    "\n",
    "le = MultiLabelBinarizer()\n",
    "y_genres = le.fit_transform(df['genres'])\n",
    "Y= np.array(y_genres)\n",
    "\n",
    "\n",
    "# Vec torizaciòn y TfIdf\n",
    "\n",
    "tfidf_transformer = TfidfTransformer(use_idf=True, smooth_idf=True, sublinear_tf=False)\n",
    "vect = CountVectorizer(ngram_range=(1, 2) )\n",
    "X_dtm_1 = vect.fit_transform(df['preprocessed_plot'])\n",
    "X_dtm = tfidf_transformer.fit_transform(X_dtm_1)\n",
    "X_dtm.shape \n",
    "    "
   ]
  },
  {
   "cell_type": "markdown",
   "id": "d642062a",
   "metadata": {},
   "source": [
    "Preprocesamiento de los datos para Test "
   ]
  },
  {
   "cell_type": "code",
   "execution_count": 93,
   "id": "5672d028",
   "metadata": {},
   "outputs": [],
   "source": [
    "df_test=dataTesting\n",
    "\n",
    "preprocessed_plot_test = []\n",
    "\n",
    "for sentance in df_test['plot'].values:\n",
    "    sentance = decontracted(sentance)\n",
    "    sentance = re.sub('[^A-Za-z]+', ' ', sentance)\n",
    "    sentance = ' '.join(e.lower() for e in sentance.split() if e.lower() not in stopwords)\n",
    "    preprocessed_plot_test.append(sentance.strip())\n",
    "\n",
    "df_test['preprocessed_plot_test']=preprocessed_plot_test \n",
    "\n",
    "\n",
    "X_test_dtm_1 = vect.transform(df_test['preprocessed_plot_test'])\n",
    "X_test_dtm = tfidf_transformer.transform(X_test_dtm_1)\n"
   ]
  },
  {
   "cell_type": "code",
   "execution_count": 73,
   "id": "8a7cc75d",
   "metadata": {},
   "outputs": [],
   "source": [
    "# Separación de variables predictoras (X) y variable de interés (y) en set de entrenamiento y test usandola función train_test_split\n",
    "X_train, X_test, y_train_genres, y_test_genres = train_test_split(X_dtm, y_genres, test_size=0.3, random_state=42)"
   ]
  },
  {
   "cell_type": "code",
   "execution_count": 78,
   "id": "1a96e550",
   "metadata": {},
   "outputs": [
    {
     "name": "stdout",
     "output_type": "stream",
     "text": [
      "accuracy de RD es: 0.8922013507809202\n",
      "precision de RD es: 0.06822044185481912\n",
      "recall de RD es: 0.031083039018972303\n",
      "roc_auc de RD es: 0.5068303524230042\n",
      "Wall time: 2min 57s\n"
     ]
    }
   ],
   "source": [
    "%%time\n",
    "# 1. Random Forest\n",
    "\n",
    "clf = OneVsRestClassifier(RandomForestClassifier(n_jobs=-1, n_estimators=100, max_depth=30, random_state=42))\n",
    "\n",
    "evaluacion_prediccion_clasificacion (clf, X_train, y_train_genres, X_test, y_test_genres, \"RD\")"
   ]
  },
  {
   "cell_type": "code",
   "execution_count": 81,
   "id": "adb6f72d",
   "metadata": {},
   "outputs": [
    {
     "name": "stdout",
     "output_type": "stream",
     "text": [
      "accuracy de LR es: 0.8965280709159983\n",
      "precision de LR es: 0.18162828914094584\n",
      "recall de LR es: 0.03905318882652221\n",
      "roc_auc de LR es: 0.5125132763138286\n",
      "Wall time: 50.5 s\n"
     ]
    }
   ],
   "source": [
    "%%time\n",
    "# 2. Regresiòn Logistica \n",
    "from sklearn.linear_model import LogisticRegression\n",
    "\n",
    "clf = OneVsRestClassifier(LogisticRegression())\n",
    "\n",
    "evaluacion_prediccion_clasificacion (clf, X_train, y_train_genres, X_test, y_test_genres, \"LR\")"
   ]
  },
  {
   "cell_type": "code",
   "execution_count": 82,
   "id": "26995dae",
   "metadata": {},
   "outputs": [
    {
     "name": "stdout",
     "output_type": "stream",
     "text": [
      "accuracy de DTC es: 0.8768115942028986\n",
      "precision de DTC es: 0.37296349011445473\n",
      "recall de DTC es: 0.3113989091032498\n",
      "roc_auc de DTC es: 0.6177414801424609\n",
      "Wall time: 16min 13s\n"
     ]
    }
   ],
   "source": [
    "%%time\n",
    "# 3. Arbol de decisiòn\n",
    "from sklearn.tree import DecisionTreeClassifier\n",
    "\n",
    "clf = OneVsRestClassifier(DecisionTreeClassifier(random_state=123))\n",
    "\n",
    "evaluacion_prediccion_clasificacion (clf, X_train, y_train_genres, X_test, y_test_genres, \"DTC\")"
   ]
  },
  {
   "cell_type": "code",
   "execution_count": 83,
   "id": "525ef5bc",
   "metadata": {},
   "outputs": [
    {
     "name": "stdout",
     "output_type": "stream",
     "text": [
      "accuracy de SVC es: 0.8952089489235965\n",
      "precision de SVC es: 0.22536585628690894\n",
      "recall de SVC es: 0.03480699506760125\n",
      "roc_auc de SVC es: 0.5106374249658068\n",
      "Wall time: 13min 18s\n"
     ]
    }
   ],
   "source": [
    "%%time\n",
    "# 4. SVC \n",
    "from sklearn.svm import SVC\n",
    "\n",
    "clf = OneVsRestClassifier(SVC(random_state=123))\n",
    "\n",
    "evaluacion_prediccion_clasificacion (clf, X_train, y_train_genres, X_test, y_test_genres, \"SVC\")"
   ]
  },
  {
   "cell_type": "code",
   "execution_count": 85,
   "id": "7d90a319",
   "metadata": {},
   "outputs": [
    {
     "name": "stdout",
     "output_type": "stream",
     "text": [
      "accuracy de XGBOOST es: 0.905498100464331\n",
      "precision de XGBOOST es: 0.5739680843328514\n",
      "recall de XGBOOST es: 0.23844810530159358\n",
      "roc_auc de XGBOOST es: 0.601521178503022\n",
      "Wall time: 4min 36s\n"
     ]
    }
   ],
   "source": [
    "%%time\n",
    "# 5. XGBOOST \n",
    "from xgboost import XGBClassifier\n",
    "\n",
    "\n",
    "clf = OneVsRestClassifier(XGBClassifier(random_state=123))\n",
    "\n",
    "evaluacion_prediccion_clasificacion (clf, X_train, y_train_genres, X_test, y_test_genres, \"XGBOOST\")\n"
   ]
  },
  {
   "cell_type": "code",
   "execution_count": 91,
   "id": "2bea9433",
   "metadata": {},
   "outputs": [
    {
     "name": "stdout",
     "output_type": "stream",
     "text": [
      "    Modelo  Accuracy  Precision    Recall   Roc_auc\n",
      "0       RD  0.892201   0.068220  0.031083  0.506830\n",
      "1       LR  0.896528   0.181628  0.039053  0.512513\n",
      "2      DTC  0.876812   0.372963  0.311399  0.617741\n",
      "3      SVC  0.895209   0.225366  0.034807  0.510637\n",
      "4  XGBOOST  0.905498   0.573968  0.238448  0.601521\n"
     ]
    }
   ],
   "source": [
    "df_resultados = pd.DataFrame(\n",
    "    {\"Modelo\":a_modelo,\n",
    "    \"Accuracy\":a_accuracy,\n",
    "    \"Precision\":a_precision,\n",
    "    \"Recall\":a_recall,\n",
    "    \"Roc_auc\":a_roc_auc})\n",
    "\n",
    "print(df_resultados)"
   ]
  },
  {
   "cell_type": "code",
   "execution_count": 90,
   "id": "22229581",
   "metadata": {},
   "outputs": [
    {
     "data": {
      "image/png": "[encoded data removed]",
      "text/plain": [
       "<Figure size 864x576 with 4 Axes>"
      ]
     },
     "metadata": {
      "needs_background": "light"
     },
     "output_type": "display_data"
    }
   ],
   "source": [
    "\n",
    "# Crear subplots para los cuatro gráficos\n",
    "fig, axs = plt.subplots(2, 2, figsize=(12, 8))\n",
    "fig.suptitle(\"Métricas de los Modelos\")\n",
    "\n",
    "# Gráfico para Accuracy\n",
    "axs[0, 0].bar(df_resultados[\"Modelo\"], df_resultados[\"Accuracy\"])\n",
    "axs[0, 0].set_title(\"Accuracy\")\n",
    "\n",
    "# Gráfico para Precision\n",
    "axs[0, 1].bar(df_resultados[\"Modelo\"], df_resultados[\"Precision\"])\n",
    "axs[0, 1].set_title(\"Precision\")\n",
    "\n",
    "# Gráfico para Recall\n",
    "axs[1, 0].bar(df_resultados[\"Modelo\"], df_resultados[\"Recall\"])\n",
    "axs[1, 0].set_title(\"Recall\")\n",
    "\n",
    "# Gráfico para Roc_auc\n",
    "axs[1, 1].bar(df_resultados[\"Modelo\"], df_resultados[\"Roc_auc\"])\n",
    "axs[1, 1].set_title(\"Roc_auc\")\n",
    "\n",
    "# Ajustar espaciado entre subplots\n",
    "plt.tight_layout()\n",
    "\n",
    "# Mostrar los gráficos\n",
    "plt.show()"
   ]
  },
  {
   "cell_type": "markdown",
   "id": "85609c54",
   "metadata": {},
   "source": [
    "## Calibración del modelo"
   ]
  },
  {
   "cell_type": "markdown",
   "id": "571079cd",
   "metadata": {},
   "source": [
    "Basándonos en los resultados obtenidos de cada uno de los modelos, optaremos por ajustar los hiperparámetros del modelo de regresión logística. A pesar de que este modelo no muestra las métricas más sobresalientes, dispone de hiperparámetros valiosos para la clasificación multiclase, como son 'solver' y 'multi_class'. Para realizar este ajuste, utilizaremos GridSearch, cuyo objetivo es buscar y seleccionar los hiperparámetros más óptimos."
   ]
  },
  {
   "cell_type": "code",
   "execution_count": 274,
   "id": "4efecab6",
   "metadata": {},
   "outputs": [
    {
     "name": "stdout",
     "output_type": "stream",
     "text": [
      "Fitting 5 folds for each of 135 candidates, totalling 675 fits\n",
      "Los mejores hiperparámetros encontrados son: {'estimator__C': 0.1, 'estimator__max_iter': 100, 'estimator__multi_class': 'auto', 'estimator__solver': 'newton-cg'}\n"
     ]
    },
    {
     "data": {
      "text/plain": [
       "0.8755794804013032"
      ]
     },
     "execution_count": 274,
     "metadata": {},
     "output_type": "execute_result"
    }
   ],
   "source": [
    "from sklearn.model_selection import GridSearchCV\n",
    "\n",
    "\n",
    "# Modelo Base \n",
    "base_lr = OneVsRestClassifier(LogisticRegression(random_state=123))\n",
    "\n",
    "# Definir los hiperparámetros que se quieren optimizar\n",
    "param_grid = {\n",
    "    'estimator__C': [0.1, 1, 10], # Puedes modificar esta lista según tus necesidades\n",
    "    'estimator__max_iter': [100, 200, 300], # Puedes modificar esta lista según tus necesidades\n",
    "    'estimator__solver': ['newton-cg', 'lbfgs', 'liblinear', 'sag', 'saga'],\n",
    "    'estimator__multi_class': ['auto', 'ovr', 'multinomial']\n",
    "}\n",
    "\n",
    "\n",
    "grid_lr = GridSearchCV(base_lr, param_grid, cv=5, scoring='roc_auc', verbose=1, n_jobs=-1)\n",
    "grid_lr.fit(X_train, y_train_genres)\n",
    "print('Los mejores hiperparámetros encontrados son:', grid_lr.best_params_)\n",
    "y_pred_genres = grid_lr.predict_proba(X_test)\n",
    "\n",
    "roc_auc_score(y_test_genres, y_pred_genres, average='macro')\n"
   ]
  },
  {
   "cell_type": "markdown",
   "id": "84c02de6",
   "metadata": {},
   "source": [
    "### Análisis de hiperparámetros\n",
    "\n",
    "\n",
    "* **random_state** =123: Este hiperparámetro es una semilla que se utiliza para reproducir el mismo resultado cada vez que se ejecuta el modelo.\n",
    "\n",
    "* **solver**='saga': El solver es el algoritmo que se utiliza para la optimización del problema. 'Saga' es un algoritmo eficiente para grandes conjuntos de datos y soporta la opción de regularización L1.\n",
    "\n",
    "* **max_iter**=500: Este hiperparámetro define el número máximo de iteraciones que el solver puede realizar para encontrar los coeficientes óptimos.\n",
    "\n",
    "* **C**=1: C es el parámetro de regularización inversa en la regresión logística. Valores más pequeños especifican una regularización más fuerte, lo que ayuda a prevenir el sobreajuste. C=1 implica que se está aplicando una regularización moderada.\n",
    "\n",
    "* **n_jobs**=-1: Este hiperparámetro se refiere a la cantidad de CPU que se utilizarán para el cálculo. El valor -1 significa que se utilizarán todas las CPUs disponibles.\n",
    "\n",
    "* **multi_class**='multinomial': Este hiperparámetro determina la estrategia que se utiliza para manejar problemas de clasificación multiclase. 'Multinomial' significa que se utiliza la pérdida de entropía cruzada, que se considera una buena opción cuando las clases son más de dos.\n"
   ]
  },
  {
   "cell_type": "markdown",
   "id": "3e31c1b7",
   "metadata": {},
   "source": [
    "## Entrenamiento del modelo"
   ]
  },
  {
   "cell_type": "code",
   "execution_count": 94,
   "id": "436ceda2",
   "metadata": {},
   "outputs": [
    {
     "name": "stdout",
     "output_type": "stream",
     "text": [
      "accuracy de LR Final es: 0.8931862952019136\n",
      "precision de LR Final es: 0.026954177897574122\n",
      "recall de LR Final es: 0.03395585738539898\n",
      "roc_auc de LR Final es: 0.5078119617181683\n"
     ]
    }
   ],
   "source": [
    "lr = OneVsRestClassifier(LogisticRegression(random_state=123, solver='newton-cg', max_iter=100, C=0.1, n_jobs=-1)) \n",
    "lr.fit(X_train, y_train_genres)\n",
    "\n",
    "evaluacion_prediccion_clasificacion (lr, X_train, y_train_genres, X_test, y_test_genres, \"LR Final\")"
   ]
  },
  {
   "cell_type": "code",
   "execution_count": 101,
   "id": "699a78b9",
   "metadata": {},
   "outputs": [
    {
     "name": "stdout",
     "output_type": "stream",
     "text": [
      "accuracy de LR Final es: 0.8996060222316027\n",
      "precision de LR Final es: 0.3393923203531855\n",
      "recall de LR Final es: 0.05344844144587737\n",
      "roc_auc de LR Final es: 0.5190671197118623\n",
      "Wall time: 2min 45s\n"
     ]
    }
   ],
   "source": [
    "%%time\n",
    "\n",
    "lr = OneVsRestClassifier(LogisticRegression(random_state=123, solver='saga', max_iter=500, C=1, n_jobs=-1, multi_class='multinomial'))\n",
    "lr.fit(X_train, y_train_genres)\n",
    "\n",
    "evaluacion_prediccion_clasificacion (lr, X_train, y_train_genres, X_test, y_test_genres, \"LR Final\")\n",
    "\n"
   ]
  },
  {
   "cell_type": "code",
   "execution_count": 102,
   "id": "211dfaed",
   "metadata": {},
   "outputs": [
    {
     "data": {
      "text/html": [
       "<div>\n",
       "<style scoped>\n",
       "    .dataframe tbody tr th:only-of-type {\n",
       "        vertical-align: middle;\n",
       "    }\n",
       "\n",
       "    .dataframe tbody tr th {\n",
       "        vertical-align: top;\n",
       "    }\n",
       "\n",
       "    .dataframe thead th {\n",
       "        text-align: right;\n",
       "    }\n",
       "</style>\n",
       "<table border=\"1\" class=\"dataframe\">\n",
       "  <thead>\n",
       "    <tr style=\"text-align: right;\">\n",
       "      <th></th>\n",
       "      <th>p_Action</th>\n",
       "      <th>p_Adventure</th>\n",
       "      <th>p_Animation</th>\n",
       "      <th>p_Biography</th>\n",
       "      <th>p_Comedy</th>\n",
       "      <th>p_Crime</th>\n",
       "      <th>p_Documentary</th>\n",
       "      <th>p_Drama</th>\n",
       "      <th>p_Family</th>\n",
       "      <th>p_Fantasy</th>\n",
       "      <th>...</th>\n",
       "      <th>p_Musical</th>\n",
       "      <th>p_Mystery</th>\n",
       "      <th>p_News</th>\n",
       "      <th>p_Romance</th>\n",
       "      <th>p_Sci-Fi</th>\n",
       "      <th>p_Short</th>\n",
       "      <th>p_Sport</th>\n",
       "      <th>p_Thriller</th>\n",
       "      <th>p_War</th>\n",
       "      <th>p_Western</th>\n",
       "    </tr>\n",
       "  </thead>\n",
       "  <tbody>\n",
       "    <tr>\n",
       "      <th>1</th>\n",
       "      <td>0.108487</td>\n",
       "      <td>0.120457</td>\n",
       "      <td>0.025917</td>\n",
       "      <td>0.030813</td>\n",
       "      <td>0.410569</td>\n",
       "      <td>0.142346</td>\n",
       "      <td>0.029240</td>\n",
       "      <td>0.565981</td>\n",
       "      <td>0.054071</td>\n",
       "      <td>0.118756</td>\n",
       "      <td>...</td>\n",
       "      <td>0.032663</td>\n",
       "      <td>0.089862</td>\n",
       "      <td>0.000793</td>\n",
       "      <td>0.558450</td>\n",
       "      <td>0.052294</td>\n",
       "      <td>0.010423</td>\n",
       "      <td>0.025367</td>\n",
       "      <td>0.188643</td>\n",
       "      <td>0.025383</td>\n",
       "      <td>0.029449</td>\n",
       "    </tr>\n",
       "    <tr>\n",
       "      <th>4</th>\n",
       "      <td>0.123335</td>\n",
       "      <td>0.051605</td>\n",
       "      <td>0.026542</td>\n",
       "      <td>0.124297</td>\n",
       "      <td>0.300854</td>\n",
       "      <td>0.268575</td>\n",
       "      <td>0.054849</td>\n",
       "      <td>0.776295</td>\n",
       "      <td>0.043270</td>\n",
       "      <td>0.035525</td>\n",
       "      <td>...</td>\n",
       "      <td>0.030424</td>\n",
       "      <td>0.044396</td>\n",
       "      <td>0.000834</td>\n",
       "      <td>0.108104</td>\n",
       "      <td>0.031253</td>\n",
       "      <td>0.011983</td>\n",
       "      <td>0.032074</td>\n",
       "      <td>0.215951</td>\n",
       "      <td>0.051143</td>\n",
       "      <td>0.029007</td>\n",
       "    </tr>\n",
       "    <tr>\n",
       "      <th>5</th>\n",
       "      <td>0.110048</td>\n",
       "      <td>0.043838</td>\n",
       "      <td>0.016175</td>\n",
       "      <td>0.041391</td>\n",
       "      <td>0.188125</td>\n",
       "      <td>0.618348</td>\n",
       "      <td>0.026864</td>\n",
       "      <td>0.792004</td>\n",
       "      <td>0.028486</td>\n",
       "      <td>0.035994</td>\n",
       "      <td>...</td>\n",
       "      <td>0.022562</td>\n",
       "      <td>0.331713</td>\n",
       "      <td>0.000812</td>\n",
       "      <td>0.162713</td>\n",
       "      <td>0.069393</td>\n",
       "      <td>0.009213</td>\n",
       "      <td>0.023167</td>\n",
       "      <td>0.557367</td>\n",
       "      <td>0.030360</td>\n",
       "      <td>0.023688</td>\n",
       "    </tr>\n",
       "    <tr>\n",
       "      <th>6</th>\n",
       "      <td>0.113051</td>\n",
       "      <td>0.085543</td>\n",
       "      <td>0.017761</td>\n",
       "      <td>0.043561</td>\n",
       "      <td>0.231886</td>\n",
       "      <td>0.090561</td>\n",
       "      <td>0.028633</td>\n",
       "      <td>0.707606</td>\n",
       "      <td>0.046008</td>\n",
       "      <td>0.054848</td>\n",
       "      <td>...</td>\n",
       "      <td>0.031504</td>\n",
       "      <td>0.095834</td>\n",
       "      <td>0.000804</td>\n",
       "      <td>0.296638</td>\n",
       "      <td>0.089291</td>\n",
       "      <td>0.008374</td>\n",
       "      <td>0.031137</td>\n",
       "      <td>0.352510</td>\n",
       "      <td>0.056197</td>\n",
       "      <td>0.019777</td>\n",
       "    </tr>\n",
       "    <tr>\n",
       "      <th>7</th>\n",
       "      <td>0.067038</td>\n",
       "      <td>0.056895</td>\n",
       "      <td>0.022630</td>\n",
       "      <td>0.026028</td>\n",
       "      <td>0.188575</td>\n",
       "      <td>0.147430</td>\n",
       "      <td>0.027610</td>\n",
       "      <td>0.406661</td>\n",
       "      <td>0.049602</td>\n",
       "      <td>0.106847</td>\n",
       "      <td>...</td>\n",
       "      <td>0.025691</td>\n",
       "      <td>0.169156</td>\n",
       "      <td>0.000803</td>\n",
       "      <td>0.181602</td>\n",
       "      <td>0.335536</td>\n",
       "      <td>0.010200</td>\n",
       "      <td>0.017083</td>\n",
       "      <td>0.431617</td>\n",
       "      <td>0.023203</td>\n",
       "      <td>0.019434</td>\n",
       "    </tr>\n",
       "  </tbody>\n",
       "</table>\n",
       "<p>5 rows × 24 columns</p>\n",
       "</div>"
      ],
      "text/plain": [
       "   p_Action  p_Adventure  p_Animation  p_Biography  p_Comedy   p_Crime  \\\n",
       "1  0.108487     0.120457     0.025917     0.030813  0.410569  0.142346   \n",
       "4  0.123335     0.051605     0.026542     0.124297  0.300854  0.268575   \n",
       "5  0.110048     0.043838     0.016175     0.041391  0.188125  0.618348   \n",
       "6  0.113051     0.085543     0.017761     0.043561  0.231886  0.090561   \n",
       "7  0.067038     0.056895     0.022630     0.026028  0.188575  0.147430   \n",
       "\n",
       "   p_Documentary   p_Drama  p_Family  p_Fantasy  ...  p_Musical  p_Mystery  \\\n",
       "1       0.029240  0.565981  0.054071   0.118756  ...   0.032663   0.089862   \n",
       "4       0.054849  0.776295  0.043270   0.035525  ...   0.030424   0.044396   \n",
       "5       0.026864  0.792004  0.028486   0.035994  ...   0.022562   0.331713   \n",
       "6       0.028633  0.707606  0.046008   0.054848  ...   0.031504   0.095834   \n",
       "7       0.027610  0.406661  0.049602   0.106847  ...   0.025691   0.169156   \n",
       "\n",
       "     p_News  p_Romance  p_Sci-Fi   p_Short   p_Sport  p_Thriller     p_War  \\\n",
       "1  0.000793   0.558450  0.052294  0.010423  0.025367    0.188643  0.025383   \n",
       "4  0.000834   0.108104  0.031253  0.011983  0.032074    0.215951  0.051143   \n",
       "5  0.000812   0.162713  0.069393  0.009213  0.023167    0.557367  0.030360   \n",
       "6  0.000804   0.296638  0.089291  0.008374  0.031137    0.352510  0.056197   \n",
       "7  0.000803   0.181602  0.335536  0.010200  0.017083    0.431617  0.023203   \n",
       "\n",
       "   p_Western  \n",
       "1   0.029449  \n",
       "4   0.029007  \n",
       "5   0.023688  \n",
       "6   0.019777  \n",
       "7   0.019434  \n",
       "\n",
       "[5 rows x 24 columns]"
      ]
     },
     "execution_count": 102,
     "metadata": {},
     "output_type": "execute_result"
    }
   ],
   "source": [
    "# transformación variión variables predictoras X del conjunto de test\n",
    "\n",
    "cols = ['p_Action', 'p_Adventure', 'p_Animation', 'p_Biography', 'p_Comedy', 'p_Crime', 'p_Documentary', 'p_Drama', 'p_Family',\n",
    "        'p_Fantasy', 'p_Film-Noir', 'p_History', 'p_Horror', 'p_Music', 'p_Musical', 'p_Mystery', 'p_News', 'p_Romance',\n",
    "        'p_Sci-Fi', 'p_Short', 'p_Sport', 'p_Thriller', 'p_War', 'p_Western']\n",
    "\n",
    "# Predicción del conjunto de test\n",
    "y_pred_test_genres = lr.predict_proba(X_test_dtm)\n",
    "\n",
    "# Guardar predicciones en formato exigido en la competencia de kaggle\n",
    "res = pd.DataFrame(y_pred_test_genres, index=dataTesting.index, columns=cols)\n",
    "res.to_csv('pred_clasificacion_final_lr.csv', index_label='ID')\n",
    "res.head()"
   ]
  },
  {
   "cell_type": "markdown",
   "id": "ed77a203",
   "metadata": {},
   "source": [
    "Al evaluar el rendimiento del modelo en el conjunto de datos de validación, utilizamos diversas métricas. La precisión, que es la relación entre los verdaderos positivos y la suma de los verdaderos positivos y los falsos positivos, fue de 0.339, indicando que el modelo tiene cierto grado de error al predecir las clases. El recall, que es la relación entre los verdaderos positivos y la suma de los verdaderos positivos y los falsos negativos, fue de 0.053, indicando que el modelo no es muy eficaz para detectar los verdaderos positivos. La puntuación de la curva ROC-AUC, que mide la capacidad de clasificación de un modelo a todas las clasificaciones de umbral, fue de 0.519, lo que indica que el modelo tiene un rendimiento ligeramente mejor que el azar. Sin embargo, la métrica más destacada es la exactitud (accuracy), que mide la proporción de predicciones correctas entre el total de predicciones realizadas, y en este caso fue de 0.899, lo que indica que el modelo es bastante preciso en sus predicciones."
   ]
  },
  {
   "cell_type": "markdown",
   "id": "94914820",
   "metadata": {},
   "source": [
    "# Generacion de modelo para API"
   ]
  },
  {
   "cell_type": "code",
   "execution_count": 104,
   "id": "1698f727",
   "metadata": {},
   "outputs": [],
   "source": [
    "import pickle\n",
    "\n",
    "# Guardamos el modelo entrenado en un archivo .pkl\n",
    "with open('modelo__clasificacion_entrenado.pkl', 'wb') as file:\n",
    "    pickle.dump(lr, file)\n",
    "    \n",
    "# Guardar el objeto vect en un archivo\n",
    "with open('vect.pkl', 'wb') as f:\n",
    "    pickle.dump(vect, f)\n",
    "\n",
    "# Guardar el objeto tfidf_transformer en un archivo\n",
    "with open('tfidf_transformer.pkl', 'wb') as f:\n",
    "    pickle.dump(tfidf_transformer, f)"
   ]
  }
 ],
 "metadata": {
  "kernelspec": {
   "display_name": "Python 3 (ipykernel)",
   "language": "python",
   "name": "python3"
  },
  "language_info": {
   "codemirror_mode": {
    "name": "ipython",
    "version": 3
   },
   "file_extension": ".py",
   "mimetype": "text/x-python",
   "name": "python",
   "nbconvert_exporter": "python",
   "pygments_lexer": "ipython3",
   "version": "3.9.7"
  }
 },
 "nbformat": 4,
 "nbformat_minor": 5
}
