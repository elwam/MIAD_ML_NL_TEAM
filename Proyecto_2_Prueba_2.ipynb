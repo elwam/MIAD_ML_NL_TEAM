{
 "cells": [
  {
   "cell_type": "code",
   "execution_count": 172,
   "id": "b6d301bb",
   "metadata": {},
   "outputs": [],
   "source": [
    "import warnings\n",
    "warnings.filterwarnings('ignore')"
   ]
  },
  {
   "cell_type": "code",
   "execution_count": 2,
   "id": "7d3fba55",
   "metadata": {},
   "outputs": [],
   "source": [
    "# Importación librerías\n",
    "import pandas as pd\n",
    "import os\n",
    "import numpy as np\n",
    "from sklearn.feature_extraction.text import CountVectorizer\n",
    "from sklearn.preprocessing import MultiLabelBinarizer\n",
    "from sklearn.multiclass import OneVsRestClassifier\n",
    "from sklearn.ensemble import RandomForestRegressor, RandomForestClassifier\n",
    "from sklearn.metrics import r2_score, roc_auc_score\n",
    "from sklearn.model_selection import train_test_split"
   ]
  },
  {
   "cell_type": "code",
   "execution_count": 239,
   "id": "b302e4f8",
   "metadata": {},
   "outputs": [],
   "source": [
    "# Carga de datos de archivo .csv\n",
    "dataTraining = pd.read_csv('https://github.com/albahnsen/MIAD_ML_and_NLP/raw/main/datasets/dataTraining.zip', encoding='UTF-8', index_col=0)\n",
    "dataTesting = pd.read_csv('https://github.com/albahnsen/MIAD_ML_and_NLP/raw/main/datasets/dataTesting.zip', encoding='UTF-8', index_col=0)"
   ]
  },
  {
   "cell_type": "code",
   "execution_count": 11,
   "id": "a3e4447e",
   "metadata": {},
   "outputs": [
    {
     "data": {
      "text/html": [
       "<div>\n",
       "<style scoped>\n",
       "    .dataframe tbody tr th:only-of-type {\n",
       "        vertical-align: middle;\n",
       "    }\n",
       "\n",
       "    .dataframe tbody tr th {\n",
       "        vertical-align: top;\n",
       "    }\n",
       "\n",
       "    .dataframe thead th {\n",
       "        text-align: right;\n",
       "    }\n",
       "</style>\n",
       "<table border=\"1\" class=\"dataframe\">\n",
       "  <thead>\n",
       "    <tr style=\"text-align: right;\">\n",
       "      <th></th>\n",
       "      <th>year</th>\n",
       "      <th>title</th>\n",
       "      <th>plot</th>\n",
       "      <th>genres</th>\n",
       "      <th>rating</th>\n",
       "    </tr>\n",
       "  </thead>\n",
       "  <tbody>\n",
       "    <tr>\n",
       "      <th>3107</th>\n",
       "      <td>2003</td>\n",
       "      <td>Most</td>\n",
       "      <td>most is the story of a single father who takes...</td>\n",
       "      <td>['Short', 'Drama']</td>\n",
       "      <td>8.0</td>\n",
       "    </tr>\n",
       "    <tr>\n",
       "      <th>900</th>\n",
       "      <td>2008</td>\n",
       "      <td>How to Be a Serial Killer</td>\n",
       "      <td>a serial killer decides to teach the secrets o...</td>\n",
       "      <td>['Comedy', 'Crime', 'Horror']</td>\n",
       "      <td>5.6</td>\n",
       "    </tr>\n",
       "    <tr>\n",
       "      <th>6724</th>\n",
       "      <td>1941</td>\n",
       "      <td>A Woman's Face</td>\n",
       "      <td>in sweden ,  a female blackmailer with a disfi...</td>\n",
       "      <td>['Drama', 'Film-Noir', 'Thriller']</td>\n",
       "      <td>7.2</td>\n",
       "    </tr>\n",
       "    <tr>\n",
       "      <th>4704</th>\n",
       "      <td>1954</td>\n",
       "      <td>Executive Suite</td>\n",
       "      <td>in a friday afternoon in new york ,  the presi...</td>\n",
       "      <td>['Drama']</td>\n",
       "      <td>7.4</td>\n",
       "    </tr>\n",
       "    <tr>\n",
       "      <th>2582</th>\n",
       "      <td>1990</td>\n",
       "      <td>Narrow Margin</td>\n",
       "      <td>in los angeles ,  the editor of a publishing h...</td>\n",
       "      <td>['Action', 'Crime', 'Thriller']</td>\n",
       "      <td>6.6</td>\n",
       "    </tr>\n",
       "  </tbody>\n",
       "</table>\n",
       "</div>"
      ],
      "text/plain": [
       "      year                      title  \\\n",
       "3107  2003                       Most   \n",
       "900   2008  How to Be a Serial Killer   \n",
       "6724  1941             A Woman's Face   \n",
       "4704  1954            Executive Suite   \n",
       "2582  1990              Narrow Margin   \n",
       "\n",
       "                                                   plot  \\\n",
       "3107  most is the story of a single father who takes...   \n",
       "900   a serial killer decides to teach the secrets o...   \n",
       "6724  in sweden ,  a female blackmailer with a disfi...   \n",
       "4704  in a friday afternoon in new york ,  the presi...   \n",
       "2582  in los angeles ,  the editor of a publishing h...   \n",
       "\n",
       "                                  genres  rating  \n",
       "3107                  ['Short', 'Drama']     8.0  \n",
       "900        ['Comedy', 'Crime', 'Horror']     5.6  \n",
       "6724  ['Drama', 'Film-Noir', 'Thriller']     7.2  \n",
       "4704                           ['Drama']     7.4  \n",
       "2582     ['Action', 'Crime', 'Thriller']     6.6  "
      ]
     },
     "execution_count": 11,
     "metadata": {},
     "output_type": "execute_result"
    }
   ],
   "source": [
    "dataTraining.head()"
   ]
  },
  {
   "cell_type": "code",
   "execution_count": null,
   "id": "4722f160",
   "metadata": {},
   "outputs": [],
   "source": [
    "#Lematizacion \n",
    "# Importación librerías\n",
    "import pandas as pd\n",
    "import numpy as np\n",
    "import scipy as sp\n",
    "from sklearn.model_selection import train_test_split, cross_val_score\n",
    "from sklearn.feature_extraction.text import CountVectorizer, TfidfVectorizer\n",
    "from sklearn.naive_bayes import MultinomialNB\n",
    "from sklearn import metrics\n",
    "from nltk.stem.snowball import SnowballStemmer\n",
    "%matplotlib inline\n",
    "\n",
    "# Importación de librerias\n",
    "from nltk.stem import WordNetLemmatizer\n",
    "wordnet_lemmatizer = WordNetLemmatizer()\n",
    "import nltk\n",
    "nltk.download('wordnet')\n",
    "\n",
    "# Definición de la función que tenga como parámetro texto y devuelva una lista de lemas\n",
    "def split_into_lemmas(text):\n",
    "    text = text.lower()\n",
    "    words = text.split()\n",
    "    return [wordnet_lemmatizer.lemmatize(word) for word in words]\n",
    "\n",
    "# Creación de matrices de documentos usando CountVectorizer, usando el parámetro 'split_into_lemmas'\n",
    "vect_lemas = CountVectorizer(stop_words='english', analyzer=split_into_lemmas)\n",
    "\n",
    "X_dtm = vect_lemas.fit_transform(dataTraining['plot'])\n",
    "X_dtm.shape"
   ]
  },
  {
   "cell_type": "code",
   "execution_count": null,
   "id": "94b89e79",
   "metadata": {},
   "outputs": [],
   "source": [
    "# Definición de variables predictoras (X)\n",
    "vect = CountVectorizer(stop_words='english')\n",
    "X_dtm = vect.fit_transform(dataTraining['plot'])\n",
    "X_dtm.shape"
   ]
  },
  {
   "cell_type": "code",
   "execution_count": null,
   "id": "f0f24e9b",
   "metadata": {},
   "outputs": [],
   "source": [
    "#Bigramas \n",
    "# Definición de variables predictoras (X)\n",
    "vect = CountVectorizer(stop_words='english', ngram_range=(1, 3))\n",
    "X_dtm = vect.fit_transform(dataTraining['plot'])\n",
    "X_dtm.shape"
   ]
  },
  {
   "cell_type": "code",
   "execution_count": 17,
   "id": "8d776bdb",
   "metadata": {},
   "outputs": [
    {
     "data": {
      "text/plain": [
       "(7895, 450140)"
      ]
     },
     "execution_count": 17,
     "metadata": {},
     "output_type": "execute_result"
    }
   ],
   "source": [
    "# Idf \n",
    "from sklearn.feature_extraction.text import CountVectorizer, TfidfTransformer\n",
    "tfidf_transformer = TfidfTransformer(use_idf=True, smooth_idf=True, sublinear_tf=False) ##Pruebas 2\n",
    "vect = CountVectorizer(stop_words='english', ngram_range=(1, 2)) # puse bigramas\n",
    "X_dtm_1 = vect.fit_transform(dataTraining['plot'])\n",
    "\n",
    "X_dtm = tfidf_transformer.fit_transform(X_dtm_1)\n",
    "X_dtm.shape \n"
   ]
  },
  {
   "cell_type": "code",
   "execution_count": null,
   "id": "20c08c35",
   "metadata": {},
   "outputs": [],
   "source": [
    "# Definición de variable de interés (y)\n",
    "dataTraining['genres'] = dataTraining['genres'].map(lambda x: eval(x))\n",
    "le = MultiLabelBinarizer()\n",
    "y_genres = le.fit_transform(dataTraining['genres'])"
   ]
  },
  {
   "cell_type": "code",
   "execution_count": null,
   "id": "41642de6",
   "metadata": {},
   "outputs": [],
   "source": [
    "# Separación de variables predictoras (X) y variable de interés (y) en set de entrenamiento y test usandola función train_test_split\n",
    "X_train, X_test, y_train_genres, y_test_genres = train_test_split(X_dtm, y_genres, test_size=0.33, random_state=42)"
   ]
  },
  {
   "cell_type": "code",
   "execution_count": null,
   "id": "e2e3d255",
   "metadata": {},
   "outputs": [],
   "source": [
    "%%time\n",
    "# Definición y entrenamiento\n",
    "clf = OneVsRestClassifier(RandomForestClassifier(n_jobs=-1, n_estimators=100, max_depth=30, random_state=42))\n",
    "clf.fit(X_train, y_train_genres)"
   ]
  },
  {
   "cell_type": "code",
   "execution_count": null,
   "id": "05c83dc9",
   "metadata": {},
   "outputs": [],
   "source": [
    "# Predicción del modelo de clasificación\n",
    "y_pred_genres = clf.predict_proba(X_test)\n",
    "\n",
    "# Impresión del desempeño del modelo\n",
    "roc_auc_score(y_test_genres, y_pred_genres, average='macro')\n",
    "\n",
    "# Sin lemas 0.7963860628253788\n",
    "# COn lemas 0.7983106666028829\n",
    "# COn bigramas 0.7737576554408515\n",
    "# Con IDF 0.807300692490283"
   ]
  },
  {
   "cell_type": "code",
   "execution_count": null,
   "id": "0b991d8d",
   "metadata": {},
   "outputs": [],
   "source": [
    "# transformación variables predictoras X del conjunto de test\n",
    "X_test_dtm = vect.transform(dataTesting['plot'])\n",
    "\n",
    "cols = ['p_Action', 'p_Adventure', 'p_Animation', 'p_Biography', 'p_Comedy', 'p_Crime', 'p_Documentary', 'p_Drama', 'p_Family',\n",
    "        'p_Fantasy', 'p_Film-Noir', 'p_History', 'p_Horror', 'p_Music', 'p_Musical', 'p_Mystery', 'p_News', 'p_Romance',\n",
    "        'p_Sci-Fi', 'p_Short', 'p_Sport', 'p_Thriller', 'p_War', 'p_Western']\n",
    "\n",
    "# Predicción del conjunto de test\n",
    "y_pred_test_genres = clf.predict_proba(X_test_dtm)"
   ]
  },
  {
   "cell_type": "code",
   "execution_count": null,
   "id": "e02c84a1",
   "metadata": {},
   "outputs": [],
   "source": [
    "%%time\n",
    "from sklearn.linear_model import LogisticRegression\n",
    "# Definición y entrenamiento\n",
    "#lr = OneVsRestClassifier(LogisticRegression(random_state=123, solver='lbfgs', max_iter=3000, C=0.01, n_jobs=-1))\n",
    "# lr = OneVsRestClassifier(LogisticRegression(random_state=123, solver='newton-cg', max_iter=500, C=0.1, n_jobs=-1, penalty='l2')) --- el mejor score \n",
    "lr = OneVsRestClassifier(LogisticRegression(random_state=123, solver='saga', max_iter=500, C=1, n_jobs=-1)) \n",
    "lr.fit(X_train, y_train_genres)"
   ]
  },
  {
   "cell_type": "code",
   "execution_count": null,
   "id": "1888e197",
   "metadata": {},
   "outputs": [],
   "source": [
    "# Predicción del modelo de clasificación\n",
    "y_pred_genres = lr.predict_proba(X_test)\n",
    "\n",
    "# Impresión del desempeño del modelo\n",
    "roc_auc_score(y_test_genres, y_pred_genres, average='macro')\n",
    "\n",
    "# Sin lematizacion 0.8591001418951785\n",
    "# Con lematizacion 0.8361467846711504\n",
    "# Sin lematizar con bigramas 0.8598116682546477\n",
    "# sin Lematizar con trigramas 0.8590851191421395\n",
    "# Con iDF 0.8710286526905197 - sag 0.8710200204640789 - newton-cg 0.8710310801528628\n",
    "# COn IDF sag 500 = 0.8721597443007804\n",
    "# COn IDF saga 500 C 1 = 0.8763304693871596\n",
    "# Con IDB y Bigramas saga = 0.8777956356836194\n",
    "# Ultimo 0.8777956356836194"
   ]
  },
  {
   "cell_type": "code",
   "execution_count": null,
   "id": "1a3a9745",
   "metadata": {},
   "outputs": [],
   "source": [
    "%%time\n",
    "\n",
    "# Definición y entrenamiento\n",
    "lr2 = OneVsRestClassifier(LogisticRegression(random_state=123, n_jobs=-1))\n",
    "lr2.fit(X_train, y_train_genres)\n",
    "\n",
    "# Predicción del modelo de clasificación\n",
    "y_pred_genres = lr2.predict_proba(X_test)\n",
    "\n",
    "# Impresión del desempeño del modelo\n",
    "roc_auc_score(y_test_genres, y_pred_genres, average='macro')"
   ]
  },
  {
   "cell_type": "code",
   "execution_count": null,
   "id": "5c36b9d4",
   "metadata": {},
   "outputs": [],
   "source": [
    "%%time\n",
    "from sklearn.tree import DecisionTreeClassifier\n",
    "\n",
    "dt = OneVsRestClassifier(DecisionTreeClassifier(random_state=123))\n",
    "dt.fit(X_train, y_train_genres)\n",
    "y_pred = dt.predict_proba(X_test)\n",
    "\n",
    "# Impresión del desempeño del modelo\n",
    "roc_auc_score(y_test_genres, y_pred, average='macro')"
   ]
  },
  {
   "cell_type": "code",
   "execution_count": null,
   "id": "08311a38",
   "metadata": {},
   "outputs": [],
   "source": [
    "%%time\n",
    "from sklearn.svm import SVC\n",
    "\n",
    "svm = OneVsRestClassifier(SVC(random_state=123))\n",
    "svm.fit(X_train, y_train_genres)\n",
    "y_pred = svm.predict_proba(X_test)\n",
    "\n",
    "# Impresión del desempeño del modelo\n",
    "roc_auc_score(y_test_genres, y_pred, average='macro')"
   ]
  },
  {
   "cell_type": "code",
   "execution_count": null,
   "id": "2170b758",
   "metadata": {},
   "outputs": [],
   "source": [
    "%%time\n",
    "from xgboost import XGBClassifier\n",
    "\n",
    "xgb = OneVsRestClassifier(XGBClassifier(random_state=123))\n",
    "xgb.fit(X_train, y_train_genres)\n",
    "y_pred = xgb.predict_proba(X_test)\n",
    "\n",
    "# Impresión del desempeño del modelo\n",
    "roc_auc_score(y_test_genres, y_pred, average='macro')"
   ]
  },
  {
   "cell_type": "code",
   "execution_count": null,
   "id": "6054e617",
   "metadata": {},
   "outputs": [],
   "source": [
    "%%time\n",
    "from sklearn.ensemble import AdaBoostClassifier\n",
    "\n",
    "adaboost = OneVsRestClassifier(AdaBoostClassifier(random_state=123))\n",
    "adaboost.fit(X_train, y_train_genres)\n",
    "y_pred = adaboost.predict_proba(X_test)\n",
    "\n",
    "# Impresión del desempeño del modelo\n",
    "roc_auc_score(y_test_genres, y_pred, average='macro')"
   ]
  },
  {
   "cell_type": "code",
   "execution_count": null,
   "id": "da54cfca",
   "metadata": {},
   "outputs": [],
   "source": [
    "# transformación variables predictoras X del conjunto de test\n",
    "X_test_dtm_1 = vect.transform(dataTesting['plot'])\n",
    "X_test_dtm = tfidf_transformer.transform(X_test_dtm_1)\n",
    "\n",
    "cols = ['p_Action', 'p_Adventure', 'p_Animation', 'p_Biography', 'p_Comedy', 'p_Crime', 'p_Documentary', 'p_Drama', 'p_Family',\n",
    "        'p_Fantasy', 'p_Film-Noir', 'p_History', 'p_Horror', 'p_Music', 'p_Musical', 'p_Mystery', 'p_News', 'p_Romance',\n",
    "        'p_Sci-Fi', 'p_Short', 'p_Sport', 'p_Thriller', 'p_War', 'p_Western']\n",
    "\n",
    "# Predicción del conjunto de test\n",
    "y_pred_test_genres = lr.predict_proba(X_test_dtm)"
   ]
  },
  {
   "cell_type": "code",
   "execution_count": null,
   "id": "c554a038",
   "metadata": {},
   "outputs": [],
   "source": [
    "# Guardar predicciones en formato exigido en la competencia de kaggle\n",
    "res = pd.DataFrame(y_pred_test_genres, index=dataTesting.index, columns=cols)\n",
    "res.to_csv('pred_genres_text_LR_TIDF_3.csv', index_label='ID')\n",
    "res.head()"
   ]
  },
  {
   "cell_type": "markdown",
   "id": "060d3ca9",
   "metadata": {},
   "source": [
    "Ejemplo interesante sobre algo similar..\n",
    "\n",
    "https://github.com/tomkeith/Multi-label-classification-with-NLP\n",
    "\n",
    "\n",
    "Ejemplo de análisis \n",
    "\n",
    "https://www.kaggle.com/code/saisandeepjallepalli/imdb-5000-eda-and-data-visualization"
   ]
  },
  {
   "cell_type": "code",
   "execution_count": 25,
   "id": "fb9d2ab9",
   "metadata": {},
   "outputs": [],
   "source": [
    "import numpy as np\n",
    "from keras.preprocessing.text import Tokenizer\n",
    "from keras.utils import pad_sequences\n",
    "from keras.models import Sequential\n",
    "from keras.layers import Dense, Embedding, GlobalMaxPooling1D, Conv1D\n",
    "from sklearn.preprocessing import MultiLabelBinarizer\n",
    "from sklearn.model_selection import train_test_split\n",
    "from keras.optimizers import Adam\n",
    "\n",
    "# Suponiendo que tienes dos listas: 'plots' (las descripciones de las películas)\n",
    "# y 'genres' (las listas de géneros correspondientes)\n"
   ]
  },
  {
   "cell_type": "code",
   "execution_count": 18,
   "id": "5d05da5c",
   "metadata": {},
   "outputs": [],
   "source": [
    "dataTraining['genres'] = dataTraining['genres'].map(lambda x: eval(x))"
   ]
  },
  {
   "cell_type": "code",
   "execution_count": 19,
   "id": "7aa6e9ca",
   "metadata": {},
   "outputs": [
    {
     "name": "stdout",
     "output_type": "stream",
     "text": [
      "38706 unique tokens found.\n"
     ]
    }
   ],
   "source": [
    "# Procesamiento del texto\n",
    "maxlen = 100  # longitud de las secuencias\n",
    "max_words = 10000  # número máximo de palabras a considerar\n",
    "\n",
    "tokenizer = Tokenizer(num_words=max_words)\n",
    "tokenizer.fit_on_texts(dataTraining['plot'])\n",
    "sequences = tokenizer.texts_to_sequences(dataTraining['plot'])\n",
    "\n",
    "word_index = tokenizer.word_index\n",
    "print(f'{len(word_index)} unique tokens found.')\n",
    "\n",
    "data = pad_sequences(sequences, maxlen=maxlen)\n",
    "\n",
    "multilabel_binarizer = MultiLabelBinarizer()\n",
    "labels = multilabel_binarizer.fit_transform(dataTraining['genres'])"
   ]
  },
  {
   "cell_type": "code",
   "execution_count": 20,
   "id": "a92697fc",
   "metadata": {},
   "outputs": [
    {
     "data": {
      "text/plain": [
       "array([[ 272,   60, 2974, ...,   44, 8503,  148],\n",
       "       [   0,    0,    0, ..., 1145,  550, 1890],\n",
       "       [   6, 2813,    3, ...,  114,   70, 1978],\n",
       "       ...,\n",
       "       [   0,    0,    0, ...,  138,    4,  487],\n",
       "       [  17,    1,  653, ...,  157,    1,  341],\n",
       "       [   0,    0,    0, ...,    4, 4194, 2231]])"
      ]
     },
     "execution_count": 20,
     "metadata": {},
     "output_type": "execute_result"
    }
   ],
   "source": [
    "data"
   ]
  },
  {
   "cell_type": "code",
   "execution_count": 21,
   "id": "c30eeccf",
   "metadata": {},
   "outputs": [
    {
     "name": "stdout",
     "output_type": "stream",
     "text": [
      "Epoch 1/10\n",
      "198/198 [==============================] - 7s 29ms/step - loss: 0.3199 - acc: 0.2137 - val_loss: 0.2860 - val_acc: 0.1906\n",
      "Epoch 2/10\n",
      "198/198 [==============================] - 6s 31ms/step - loss: 0.2553 - acc: 0.2867 - val_loss: 0.2645 - val_acc: 0.2717\n",
      "Epoch 3/10\n",
      "198/198 [==============================] - 6s 30ms/step - loss: 0.1734 - acc: 0.4580 - val_loss: 0.2598 - val_acc: 0.3008\n",
      "Epoch 4/10\n",
      "198/198 [==============================] - 5s 27ms/step - loss: 0.0877 - acc: 0.5380 - val_loss: 0.2945 - val_acc: 0.2932\n",
      "Epoch 5/10\n",
      "198/198 [==============================] - 6s 29ms/step - loss: 0.0385 - acc: 0.5434 - val_loss: 0.3502 - val_acc: 0.2989\n",
      "Epoch 6/10\n",
      "198/198 [==============================] - 6s 29ms/step - loss: 0.0170 - acc: 0.5500 - val_loss: 0.4023 - val_acc: 0.2894\n",
      "Epoch 7/10\n",
      "198/198 [==============================] - 6s 29ms/step - loss: 0.0085 - acc: 0.5416 - val_loss: 0.4514 - val_acc: 0.3015\n",
      "Epoch 8/10\n",
      "198/198 [==============================] - 5s 27ms/step - loss: 0.0047 - acc: 0.5440 - val_loss: 0.4880 - val_acc: 0.2869\n",
      "Epoch 9/10\n",
      "198/198 [==============================] - 6s 28ms/step - loss: 0.0029 - acc: 0.5462 - val_loss: 0.5217 - val_acc: 0.2939\n",
      "Epoch 10/10\n",
      "198/198 [==============================] - 6s 30ms/step - loss: 0.0019 - acc: 0.5431 - val_loss: 0.5486 - val_acc: 0.2882\n"
     ]
    }
   ],
   "source": [
    "\n",
    "# Dividir los datos en un conjunto de entrenamiento y un conjunto de validación\n",
    "x_train, x_val, y_train, y_val = train_test_split(data, labels, test_size=0.2)\n",
    "\n",
    "# Construcción del modelo\n",
    "model = Sequential()\n",
    "model.add(Embedding(max_words, 50, input_length=maxlen))\n",
    "model.add(Flatten())\n",
    "model.add(Dense(128, activation='relu'))\n",
    "model.add(Dense(len(multilabel_binarizer.classes_), activation='sigmoid'))\n",
    "\n",
    "model.compile(optimizer='adam', loss='binary_crossentropy', metrics=['acc'])\n",
    "\n",
    "# Entrenamiento del modelo\n",
    "history = model.fit(x_train, y_train,\n",
    "                    epochs=10,\n",
    "                    batch_size=32,\n",
    "                    validation_data=(x_val, y_val))\n"
   ]
  },
  {
   "cell_type": "code",
   "execution_count": null,
   "id": "bf9b3225",
   "metadata": {},
   "outputs": [],
   "source": [
    "from keras.preprocessing.text import Tokenizer\n",
    "from nltk.corpus import stopwords\n",
    "import nltk"
   ]
  },
  {
   "cell_type": "code",
   "execution_count": 37,
   "id": "c908e80a",
   "metadata": {},
   "outputs": [
    {
     "name": "stdout",
     "output_type": "stream",
     "text": [
      "Epoch 1/10\n",
      "87/87 [==============================] - 4s 37ms/step - loss: 0.3080 - acc: 0.2164 - val_loss: 0.2704 - val_acc: 0.2393\n",
      "Epoch 2/10\n",
      "87/87 [==============================] - 3s 36ms/step - loss: 0.2457 - acc: 0.2995 - val_loss: 0.2591 - val_acc: 0.2604\n",
      "Epoch 3/10\n",
      "87/87 [==============================] - 3s 38ms/step - loss: 0.2095 - acc: 0.3599 - val_loss: 0.2527 - val_acc: 0.2773\n",
      "Epoch 4/10\n",
      "87/87 [==============================] - 3s 37ms/step - loss: 0.1725 - acc: 0.4086 - val_loss: 0.2606 - val_acc: 0.2778\n",
      "Epoch 5/10\n",
      "87/87 [==============================] - 3s 34ms/step - loss: 0.1407 - acc: 0.4385 - val_loss: 0.2980 - val_acc: 0.2436\n",
      "Epoch 6/10\n",
      "87/87 [==============================] - 3s 33ms/step - loss: 0.1112 - acc: 0.4656 - val_loss: 0.3226 - val_acc: 0.2727\n",
      "Epoch 7/10\n",
      "87/87 [==============================] - 3s 36ms/step - loss: 0.0853 - acc: 0.4785 - val_loss: 0.3831 - val_acc: 0.2457\n",
      "Epoch 8/10\n",
      "87/87 [==============================] - 3s 35ms/step - loss: 0.0665 - acc: 0.4904 - val_loss: 0.4006 - val_acc: 0.2946\n",
      "Epoch 9/10\n",
      "87/87 [==============================] - 3s 38ms/step - loss: 0.0502 - acc: 0.4844 - val_loss: 0.4575 - val_acc: 0.3043\n",
      "Epoch 10/10\n",
      "87/87 [==============================] - 4s 42ms/step - loss: 0.0382 - acc: 0.5025 - val_loss: 0.4887 - val_acc: 0.2714\n"
     ]
    },
    {
     "data": {
      "text/plain": [
       "<keras.callbacks.History at 0x1d94ac5cd60>"
      ]
     },
     "execution_count": 37,
     "metadata": {},
     "output_type": "execute_result"
    }
   ],
   "source": [
    "# Tokenizar el texto\n",
    "tokenizer = Tokenizer(num_words=2000)\n",
    "tokenizer.fit_on_texts(dataTraining['plot'])\n",
    "sequences = tokenizer.texts_to_sequences(dataTraining['plot'])\n",
    "x = pad_sequences(sequences, maxlen=200)\n",
    "\n",
    "# Transformar las etiquetas en un formato que se pueda alimentar en la red\n",
    "multilabel_binarizer = MultiLabelBinarizer()\n",
    "multilabel_binarizer.fit(dataTraining['genres'])\n",
    "y = multilabel_binarizer.transform(dataTraining['genres'])\n",
    "\n",
    "# Dividir los datos en conjuntos de entrenamiento y prueba\n",
    "x_train, x_test, y_train, y_test = train_test_split(x, y, test_size=0.3, random_state=42)\n",
    "\n",
    "# Definir la red\n",
    "model = Sequential()\n",
    "model.add(Embedding(5000, 50, input_length=200))\n",
    "model.add(Conv1D(100, 3, activation='relu'))\n",
    "model.add(GlobalMaxPooling1D())\n",
    "model.add(Dense(y.shape[1], activation='sigmoid'))\n",
    "\n",
    "# Compilar el modelo\n",
    "model.compile(optimizer=Adam(0.01), loss='binary_crossentropy',  metrics=['acc'])\n",
    "\n",
    "# Entrenar el modelo\n",
    "model.fit(x_train, y_train, validation_split=0.1, batch_size=64, epochs=10, validation_data=(x_test, y_test))\n",
    "\n",
    "# Evaluar el modelo\n",
    "#y_pred = model.predict(x_test)\n",
    "#auc = roc_auc_score(y_test, y_pred, average='macro')\n"
   ]
  },
  {
   "cell_type": "code",
   "execution_count": 28,
   "id": "fd042a54",
   "metadata": {},
   "outputs": [
    {
     "name": "stdout",
     "output_type": "stream",
     "text": [
      "Epoch 1/10\n",
      "44/44 [==============================] - 709s 16s/step - loss: 0.3927 - accuracy: 0.1806 - val_loss: 0.2922 - val_accuracy: 0.1908\n",
      "Epoch 2/10\n",
      "44/44 [==============================] - 934s 21s/step - loss: 0.2946 - accuracy: 0.2007 - val_loss: 0.2914 - val_accuracy: 0.1908\n",
      "Epoch 3/10\n",
      "44/44 [==============================] - 1094s 25s/step - loss: 0.2941 - accuracy: 0.2007 - val_loss: 0.2913 - val_accuracy: 0.1908\n",
      "Epoch 4/10\n",
      "44/44 [==============================] - 1225s 28s/step - loss: 0.2928 - accuracy: 0.2007 - val_loss: 0.2906 - val_accuracy: 0.1908\n",
      "Epoch 5/10\n",
      "44/44 [==============================] - 1307s 30s/step - loss: 0.2902 - accuracy: 0.2032 - val_loss: 0.2912 - val_accuracy: 0.1908\n",
      "Epoch 6/10\n",
      "44/44 [==============================] - 1352s 31s/step - loss: 0.2847 - accuracy: 0.2448 - val_loss: 0.2898 - val_accuracy: 0.1971\n",
      "Epoch 7/10\n",
      "44/44 [==============================] - 1395s 32s/step - loss: 0.2764 - accuracy: 0.2682 - val_loss: 0.2913 - val_accuracy: 0.2127\n",
      "Epoch 8/10\n",
      "44/44 [==============================] - 1413s 32s/step - loss: 0.2681 - accuracy: 0.2950 - val_loss: 0.2929 - val_accuracy: 0.2208\n",
      "Epoch 9/10\n",
      "44/44 [==============================] - 1443s 33s/step - loss: 0.2597 - accuracy: 0.3096 - val_loss: 0.2971 - val_accuracy: 0.2254\n",
      "Epoch 10/10\n",
      "44/44 [==============================] - 1467s 33s/step - loss: 0.2545 - accuracy: 0.3243 - val_loss: 0.2941 - val_accuracy: 0.1976\n"
     ]
    },
    {
     "data": {
      "text/plain": [
       "<keras.callbacks.History at 0x25b41936170>"
      ]
     },
     "execution_count": 28,
     "metadata": {},
     "output_type": "execute_result"
    }
   ],
   "source": [
    "import pandas as pd\n",
    "import numpy as np\n",
    "from sklearn.model_selection import train_test_split\n",
    "from sklearn.preprocessing import MultiLabelBinarizer\n",
    "from keras.preprocessing.text import Tokenizer\n",
    "from keras.models import Sequential\n",
    "from keras.layers import Dense, Embedding, LSTM\n",
    "\n",
    "# Cargamos los datos\n",
    "#df = pd.read_csv('movies.csv') # Reemplazar con tu archivo\n",
    "\n",
    "# Convertir las cadenas de lista en listas\n",
    "dataTraining['genres'] = dataTraining['genres'].apply(eval)\n",
    "\n",
    "# Inicializar MultiLabelBinarizer\n",
    "mlb = MultiLabelBinarizer()\n",
    "\n",
    "# Ajustar y transformar los géneros a representación binaria\n",
    "labels = mlb.fit_transform(dataTraining['genres'])\n",
    "\n",
    "# Preprocesamiento del texto\n",
    "tokenizer = Tokenizer(num_words=5000)\n",
    "tokenizer.fit_on_texts(dataTraining['plot'])\n",
    "sequences = tokenizer.texts_to_sequences(dataTraining['plot'])\n",
    "word_index = tokenizer.word_index\n",
    "\n",
    "# Asegurar que todas las secuencias tengan la misma longitud\n",
    "data = pad_sequences(sequences, maxlen=500)\n",
    "\n",
    "# Dividir los datos en conjuntos de entrenamiento y prueba\n",
    "x_train, x_test, y_train, y_test = train_test_split(data, labels, test_size=0.3)\n",
    "\n",
    "# Construir el modelo\n",
    "model = Sequential()\n",
    "model.add(Embedding(len(word_index) + 1, 128, input_length=500))\n",
    "model.add(LSTM(128, dropout=0.2, recurrent_dropout=0.2))\n",
    "model.add(Dense(len(labels[0]), activation='sigmoid')) # Cambiar 'softmax' por 'sigmoid'\n",
    "\n",
    "# Compilar el modelo\n",
    "model.compile(loss='binary_crossentropy',  # Cambiar 'categorical_crossentropy' por 'binary_crossentropy'\n",
    "              optimizer='adam',\n",
    "              metrics=['accuracy'])\n",
    "\n",
    "# Entrenar el modelo\n",
    "model.fit(x_train, y_train,\n",
    "          batch_size=128,\n",
    "          epochs=10,\n",
    "          validation_data=(x_test, y_test))\n"
   ]
  },
  {
   "cell_type": "code",
   "execution_count": 68,
   "id": "af4531e8",
   "metadata": {},
   "outputs": [],
   "source": [
    "# Carga de datos de archivo .csv\n",
    "dataTraining = pd.read_csv('https://github.com/albahnsen/MIAD_ML_and_NLP/raw/main/datasets/dataTraining.zip', encoding='UTF-8', index_col=0)\n",
    "dataTesting = pd.read_csv('https://github.com/albahnsen/MIAD_ML_and_NLP/raw/main/datasets/dataTesting.zip', encoding='UTF-8', index_col=0)"
   ]
  },
  {
   "cell_type": "code",
   "execution_count": 58,
   "id": "c6fd3570",
   "metadata": {},
   "outputs": [
    {
     "name": "stderr",
     "output_type": "stream",
     "text": [
      "[nltk_data] Downloading package stopwords to\n",
      "[nltk_data]     C:\\Users\\wmorales\\AppData\\Roaming\\nltk_data...\n",
      "[nltk_data]   Package stopwords is already up-to-date!\n"
     ]
    }
   ],
   "source": [
    "### Procesamiento y split de Datos 1\n",
    "\n",
    "nltk.download('stopwords')\n",
    "stop_words = set(stopwords.words('english'))\n",
    "\n",
    "# Tus datos, donde movie_plots es una lista de descripciones de películas\n",
    "movie_plots = dataTraining['plot']\n",
    "\n",
    "# Preprocesamiento del texto para eliminar las palabras de parada\n",
    "movie_plots = [' '.join([word for word in plot.lower().split() if word not in stop_words])\n",
    "               for plot in movie_plots]\n",
    "\n",
    "# Ajuste del tokenizador\n",
    "tokenizer = Tokenizer(num_words=4000)  # puedes ajustar num_words según tus datos\n",
    "tokenizer.fit_on_texts(movie_plots)\n",
    "\n",
    "# Transforma el texto en secuencias de enteros\n",
    "sequences = tokenizer.texts_to_sequences(movie_plots)\n",
    "word_index = tokenizer.word_index\n",
    "\n",
    "# Ajustar la longitud de las secuencias con pad_sequences\n",
    "X = pad_sequences(sequences, maxlen=4000)  # puedes ajustar maxlen según tus datos\n",
    "\n",
    "# Convertir las cadenas de lista en listas\n",
    "dataTraining['genres'] = dataTraining['genres'].apply(eval)\n",
    "\n",
    "# Inicializar MultiLabelBinarizer\n",
    "mlb = MultiLabelBinarizer()\n",
    "\n",
    "# Ajustar y transformar los géneros a representación binaria\n",
    "labels = mlb.fit_transform(dataTraining['genres'])\n",
    "\n",
    "\n",
    "# Dividir los datos en conjuntos de entrenamiento y prueba\n",
    "x_train, x_test, y_train, y_test = train_test_split(X, labels, test_size=0.3, random_state=42)"
   ]
  },
  {
   "cell_type": "code",
   "execution_count": 69,
   "id": "7910c35c",
   "metadata": {},
   "outputs": [
    {
     "name": "stderr",
     "output_type": "stream",
     "text": [
      "[nltk_data] Downloading package averaged_perceptron_tagger to\n",
      "[nltk_data]     C:\\Users\\wmorales\\AppData\\Roaming\\nltk_data...\n",
      "[nltk_data]   Unzipping taggers\\averaged_perceptron_tagger.zip.\n",
      "[nltk_data] Downloading package wordnet to\n",
      "[nltk_data]     C:\\Users\\wmorales\\AppData\\Roaming\\nltk_data...\n"
     ]
    },
    {
     "ename": "LookupError",
     "evalue": "\n**********************************************************************\n  Resource \u001b[93momw-1.4\u001b[0m not found.\n  Please use the NLTK Downloader to obtain the resource:\n\n  \u001b[31m>>> import nltk\n  >>> nltk.download('omw-1.4')\n  \u001b[0m\n  For more information see: https://www.nltk.org/data.html\n\n  Attempted to load \u001b[93mcorpora/omw-1.4\u001b[0m\n\n  Searched in:\n    - 'C:\\\\Users\\\\wmorales/nltk_data'\n    - 'C:\\\\Users\\\\wmorales\\\\anaconda3\\\\nltk_data'\n    - 'C:\\\\Users\\\\wmorales\\\\anaconda3\\\\share\\\\nltk_data'\n    - 'C:\\\\Users\\\\wmorales\\\\anaconda3\\\\lib\\\\nltk_data'\n    - 'C:\\\\Users\\\\wmorales\\\\AppData\\\\Roaming\\\\nltk_data'\n    - 'C:\\\\nltk_data'\n    - 'D:\\\\nltk_data'\n    - 'E:\\\\nltk_data'\n**********************************************************************\n",
     "output_type": "error",
     "traceback": [
      "\u001b[1;31m---------------------------------------------------------------------------\u001b[0m",
      "\u001b[1;31mLookupError\u001b[0m                               Traceback (most recent call last)",
      "File \u001b[1;32m~\\anaconda3\\lib\\site-packages\\nltk\\corpus\\util.py:84\u001b[0m, in \u001b[0;36mLazyCorpusLoader.__load\u001b[1;34m(self)\u001b[0m\n\u001b[0;32m     83\u001b[0m \u001b[38;5;28;01mtry\u001b[39;00m:\n\u001b[1;32m---> 84\u001b[0m     root \u001b[38;5;241m=\u001b[39m \u001b[43mnltk\u001b[49m\u001b[38;5;241;43m.\u001b[39;49m\u001b[43mdata\u001b[49m\u001b[38;5;241;43m.\u001b[39;49m\u001b[43mfind\u001b[49m\u001b[43m(\u001b[49m\u001b[38;5;124;43mf\u001b[39;49m\u001b[38;5;124;43m\"\u001b[39;49m\u001b[38;5;132;43;01m{\u001b[39;49;00m\u001b[38;5;28;43mself\u001b[39;49m\u001b[38;5;241;43m.\u001b[39;49m\u001b[43msubdir\u001b[49m\u001b[38;5;132;43;01m}\u001b[39;49;00m\u001b[38;5;124;43m/\u001b[39;49m\u001b[38;5;132;43;01m{\u001b[39;49;00m\u001b[43mzip_name\u001b[49m\u001b[38;5;132;43;01m}\u001b[39;49;00m\u001b[38;5;124;43m\"\u001b[39;49m\u001b[43m)\u001b[49m\n\u001b[0;32m     85\u001b[0m \u001b[38;5;28;01mexcept\u001b[39;00m \u001b[38;5;167;01mLookupError\u001b[39;00m:\n",
      "File \u001b[1;32m~\\anaconda3\\lib\\site-packages\\nltk\\data.py:583\u001b[0m, in \u001b[0;36mfind\u001b[1;34m(resource_name, paths)\u001b[0m\n\u001b[0;32m    582\u001b[0m resource_not_found \u001b[38;5;241m=\u001b[39m \u001b[38;5;124mf\u001b[39m\u001b[38;5;124m\"\u001b[39m\u001b[38;5;130;01m\\n\u001b[39;00m\u001b[38;5;132;01m{\u001b[39;00msep\u001b[38;5;132;01m}\u001b[39;00m\u001b[38;5;130;01m\\n\u001b[39;00m\u001b[38;5;132;01m{\u001b[39;00mmsg\u001b[38;5;132;01m}\u001b[39;00m\u001b[38;5;130;01m\\n\u001b[39;00m\u001b[38;5;132;01m{\u001b[39;00msep\u001b[38;5;132;01m}\u001b[39;00m\u001b[38;5;130;01m\\n\u001b[39;00m\u001b[38;5;124m\"\u001b[39m\n\u001b[1;32m--> 583\u001b[0m \u001b[38;5;28;01mraise\u001b[39;00m \u001b[38;5;167;01mLookupError\u001b[39;00m(resource_not_found)\n",
      "\u001b[1;31mLookupError\u001b[0m: \n**********************************************************************\n  Resource \u001b[93momw-1.4\u001b[0m not found.\n  Please use the NLTK Downloader to obtain the resource:\n\n  \u001b[31m>>> import nltk\n  >>> nltk.download('omw-1.4')\n  \u001b[0m\n  For more information see: https://www.nltk.org/data.html\n\n  Attempted to load \u001b[93mcorpora/omw-1.4.zip/omw-1.4/\u001b[0m\n\n  Searched in:\n    - 'C:\\\\Users\\\\wmorales/nltk_data'\n    - 'C:\\\\Users\\\\wmorales\\\\anaconda3\\\\nltk_data'\n    - 'C:\\\\Users\\\\wmorales\\\\anaconda3\\\\share\\\\nltk_data'\n    - 'C:\\\\Users\\\\wmorales\\\\anaconda3\\\\lib\\\\nltk_data'\n    - 'C:\\\\Users\\\\wmorales\\\\AppData\\\\Roaming\\\\nltk_data'\n    - 'C:\\\\nltk_data'\n    - 'D:\\\\nltk_data'\n    - 'E:\\\\nltk_data'\n**********************************************************************\n",
      "\nDuring handling of the above exception, another exception occurred:\n",
      "\u001b[1;31mLookupError\u001b[0m                               Traceback (most recent call last)",
      "Cell \u001b[1;32mIn[69], line 22\u001b[0m\n\u001b[0;32m     19\u001b[0m     \u001b[38;5;28;01mreturn\u001b[39;00m tag_dict\u001b[38;5;241m.\u001b[39mget(tag, wordnet\u001b[38;5;241m.\u001b[39mNOUN)\n\u001b[0;32m     21\u001b[0m \u001b[38;5;66;03m# Aplicar lemmatization en lugar de simplemente dividir en palabras\u001b[39;00m\n\u001b[1;32m---> 22\u001b[0m movie_plots \u001b[38;5;241m=\u001b[39m [\u001b[38;5;124m'\u001b[39m\u001b[38;5;124m \u001b[39m\u001b[38;5;124m'\u001b[39m\u001b[38;5;241m.\u001b[39mjoin([lemmatizer\u001b[38;5;241m.\u001b[39mlemmatize(word, get_wordnet_pos(word)) \n\u001b[0;32m     23\u001b[0m                          \u001b[38;5;28;01mfor\u001b[39;00m word \u001b[38;5;129;01min\u001b[39;00m plot\u001b[38;5;241m.\u001b[39mlower()\u001b[38;5;241m.\u001b[39msplit() \u001b[38;5;28;01mif\u001b[39;00m word \u001b[38;5;129;01mnot\u001b[39;00m \u001b[38;5;129;01min\u001b[39;00m stop_words])\n\u001b[0;32m     24\u001b[0m                \u001b[38;5;28;01mfor\u001b[39;00m plot \u001b[38;5;129;01min\u001b[39;00m movie_plots]\n\u001b[0;32m     26\u001b[0m \u001b[38;5;66;03m# Ajuste del tokenizador\u001b[39;00m\n\u001b[0;32m     27\u001b[0m tokenizer \u001b[38;5;241m=\u001b[39m Tokenizer(num_words\u001b[38;5;241m=\u001b[39m\u001b[38;5;241m4000\u001b[39m)  \u001b[38;5;66;03m# puedes ajustar num_words según tus datos\u001b[39;00m\n",
      "Cell \u001b[1;32mIn[69], line 22\u001b[0m, in \u001b[0;36m<listcomp>\u001b[1;34m(.0)\u001b[0m\n\u001b[0;32m     19\u001b[0m     \u001b[38;5;28;01mreturn\u001b[39;00m tag_dict\u001b[38;5;241m.\u001b[39mget(tag, wordnet\u001b[38;5;241m.\u001b[39mNOUN)\n\u001b[0;32m     21\u001b[0m \u001b[38;5;66;03m# Aplicar lemmatization en lugar de simplemente dividir en palabras\u001b[39;00m\n\u001b[1;32m---> 22\u001b[0m movie_plots \u001b[38;5;241m=\u001b[39m [\u001b[38;5;124m'\u001b[39m\u001b[38;5;124m \u001b[39m\u001b[38;5;124m'\u001b[39m\u001b[38;5;241m.\u001b[39mjoin([lemmatizer\u001b[38;5;241m.\u001b[39mlemmatize(word, get_wordnet_pos(word)) \n\u001b[0;32m     23\u001b[0m                          \u001b[38;5;28;01mfor\u001b[39;00m word \u001b[38;5;129;01min\u001b[39;00m plot\u001b[38;5;241m.\u001b[39mlower()\u001b[38;5;241m.\u001b[39msplit() \u001b[38;5;28;01mif\u001b[39;00m word \u001b[38;5;129;01mnot\u001b[39;00m \u001b[38;5;129;01min\u001b[39;00m stop_words])\n\u001b[0;32m     24\u001b[0m                \u001b[38;5;28;01mfor\u001b[39;00m plot \u001b[38;5;129;01min\u001b[39;00m movie_plots]\n\u001b[0;32m     26\u001b[0m \u001b[38;5;66;03m# Ajuste del tokenizador\u001b[39;00m\n\u001b[0;32m     27\u001b[0m tokenizer \u001b[38;5;241m=\u001b[39m Tokenizer(num_words\u001b[38;5;241m=\u001b[39m\u001b[38;5;241m4000\u001b[39m)  \u001b[38;5;66;03m# puedes ajustar num_words según tus datos\u001b[39;00m\n",
      "Cell \u001b[1;32mIn[69], line 22\u001b[0m, in \u001b[0;36m<listcomp>\u001b[1;34m(.0)\u001b[0m\n\u001b[0;32m     19\u001b[0m     \u001b[38;5;28;01mreturn\u001b[39;00m tag_dict\u001b[38;5;241m.\u001b[39mget(tag, wordnet\u001b[38;5;241m.\u001b[39mNOUN)\n\u001b[0;32m     21\u001b[0m \u001b[38;5;66;03m# Aplicar lemmatization en lugar de simplemente dividir en palabras\u001b[39;00m\n\u001b[1;32m---> 22\u001b[0m movie_plots \u001b[38;5;241m=\u001b[39m [\u001b[38;5;124m'\u001b[39m\u001b[38;5;124m \u001b[39m\u001b[38;5;124m'\u001b[39m\u001b[38;5;241m.\u001b[39mjoin([lemmatizer\u001b[38;5;241m.\u001b[39mlemmatize(word, \u001b[43mget_wordnet_pos\u001b[49m\u001b[43m(\u001b[49m\u001b[43mword\u001b[49m\u001b[43m)\u001b[49m) \n\u001b[0;32m     23\u001b[0m                          \u001b[38;5;28;01mfor\u001b[39;00m word \u001b[38;5;129;01min\u001b[39;00m plot\u001b[38;5;241m.\u001b[39mlower()\u001b[38;5;241m.\u001b[39msplit() \u001b[38;5;28;01mif\u001b[39;00m word \u001b[38;5;129;01mnot\u001b[39;00m \u001b[38;5;129;01min\u001b[39;00m stop_words])\n\u001b[0;32m     24\u001b[0m                \u001b[38;5;28;01mfor\u001b[39;00m plot \u001b[38;5;129;01min\u001b[39;00m movie_plots]\n\u001b[0;32m     26\u001b[0m \u001b[38;5;66;03m# Ajuste del tokenizador\u001b[39;00m\n\u001b[0;32m     27\u001b[0m tokenizer \u001b[38;5;241m=\u001b[39m Tokenizer(num_words\u001b[38;5;241m=\u001b[39m\u001b[38;5;241m4000\u001b[39m)  \u001b[38;5;66;03m# puedes ajustar num_words según tus datos\u001b[39;00m\n",
      "Cell \u001b[1;32mIn[69], line 15\u001b[0m, in \u001b[0;36mget_wordnet_pos\u001b[1;34m(word)\u001b[0m\n\u001b[0;32m     13\u001b[0m \u001b[38;5;28;01mdef\u001b[39;00m \u001b[38;5;21mget_wordnet_pos\u001b[39m(word):\n\u001b[0;32m     14\u001b[0m     tag \u001b[38;5;241m=\u001b[39m nltk\u001b[38;5;241m.\u001b[39mpos_tag([word])[\u001b[38;5;241m0\u001b[39m][\u001b[38;5;241m1\u001b[39m][\u001b[38;5;241m0\u001b[39m]\u001b[38;5;241m.\u001b[39mupper()\n\u001b[1;32m---> 15\u001b[0m     tag_dict \u001b[38;5;241m=\u001b[39m {\u001b[38;5;124m\"\u001b[39m\u001b[38;5;124mJ\u001b[39m\u001b[38;5;124m\"\u001b[39m: \u001b[43mwordnet\u001b[49m\u001b[38;5;241;43m.\u001b[39;49m\u001b[43mADJ\u001b[49m,\n\u001b[0;32m     16\u001b[0m                 \u001b[38;5;124m\"\u001b[39m\u001b[38;5;124mN\u001b[39m\u001b[38;5;124m\"\u001b[39m: wordnet\u001b[38;5;241m.\u001b[39mNOUN,\n\u001b[0;32m     17\u001b[0m                 \u001b[38;5;124m\"\u001b[39m\u001b[38;5;124mV\u001b[39m\u001b[38;5;124m\"\u001b[39m: wordnet\u001b[38;5;241m.\u001b[39mVERB,\n\u001b[0;32m     18\u001b[0m                 \u001b[38;5;124m\"\u001b[39m\u001b[38;5;124mR\u001b[39m\u001b[38;5;124m\"\u001b[39m: wordnet\u001b[38;5;241m.\u001b[39mADV}\n\u001b[0;32m     19\u001b[0m     \u001b[38;5;28;01mreturn\u001b[39;00m tag_dict\u001b[38;5;241m.\u001b[39mget(tag, wordnet\u001b[38;5;241m.\u001b[39mNOUN)\n",
      "File \u001b[1;32m~\\anaconda3\\lib\\site-packages\\nltk\\corpus\\util.py:121\u001b[0m, in \u001b[0;36mLazyCorpusLoader.__getattr__\u001b[1;34m(self, attr)\u001b[0m\n\u001b[0;32m    118\u001b[0m \u001b[38;5;28;01mif\u001b[39;00m attr \u001b[38;5;241m==\u001b[39m \u001b[38;5;124m\"\u001b[39m\u001b[38;5;124m__bases__\u001b[39m\u001b[38;5;124m\"\u001b[39m:\n\u001b[0;32m    119\u001b[0m     \u001b[38;5;28;01mraise\u001b[39;00m \u001b[38;5;167;01mAttributeError\u001b[39;00m(\u001b[38;5;124m\"\u001b[39m\u001b[38;5;124mLazyCorpusLoader object has no attribute \u001b[39m\u001b[38;5;124m'\u001b[39m\u001b[38;5;124m__bases__\u001b[39m\u001b[38;5;124m'\u001b[39m\u001b[38;5;124m\"\u001b[39m)\n\u001b[1;32m--> 121\u001b[0m \u001b[38;5;28;43mself\u001b[39;49m\u001b[38;5;241;43m.\u001b[39;49m\u001b[43m__load\u001b[49m\u001b[43m(\u001b[49m\u001b[43m)\u001b[49m\n\u001b[0;32m    122\u001b[0m \u001b[38;5;66;03m# This looks circular, but its not, since __load() changes our\u001b[39;00m\n\u001b[0;32m    123\u001b[0m \u001b[38;5;66;03m# __class__ to something new:\u001b[39;00m\n\u001b[0;32m    124\u001b[0m \u001b[38;5;28;01mreturn\u001b[39;00m \u001b[38;5;28mgetattr\u001b[39m(\u001b[38;5;28mself\u001b[39m, attr)\n",
      "File \u001b[1;32m~\\anaconda3\\lib\\site-packages\\nltk\\corpus\\util.py:89\u001b[0m, in \u001b[0;36mLazyCorpusLoader.__load\u001b[1;34m(self)\u001b[0m\n\u001b[0;32m     86\u001b[0m             \u001b[38;5;28;01mraise\u001b[39;00m e\n\u001b[0;32m     88\u001b[0m \u001b[38;5;66;03m# Load the corpus.\u001b[39;00m\n\u001b[1;32m---> 89\u001b[0m corpus \u001b[38;5;241m=\u001b[39m \u001b[38;5;28mself\u001b[39m\u001b[38;5;241m.\u001b[39m__reader_cls(root, \u001b[38;5;241m*\u001b[39m\u001b[38;5;28mself\u001b[39m\u001b[38;5;241m.\u001b[39m__args, \u001b[38;5;241m*\u001b[39m\u001b[38;5;241m*\u001b[39m\u001b[38;5;28mself\u001b[39m\u001b[38;5;241m.\u001b[39m__kwargs)\n\u001b[0;32m     91\u001b[0m \u001b[38;5;66;03m# This is where the magic happens!  Transform ourselves into\u001b[39;00m\n\u001b[0;32m     92\u001b[0m \u001b[38;5;66;03m# the corpus by modifying our own __dict__ and __class__ to\u001b[39;00m\n\u001b[0;32m     93\u001b[0m \u001b[38;5;66;03m# match that of the corpus.\u001b[39;00m\n\u001b[0;32m     95\u001b[0m args, kwargs \u001b[38;5;241m=\u001b[39m \u001b[38;5;28mself\u001b[39m\u001b[38;5;241m.\u001b[39m__args, \u001b[38;5;28mself\u001b[39m\u001b[38;5;241m.\u001b[39m__kwargs\n",
      "File \u001b[1;32m~\\anaconda3\\lib\\site-packages\\nltk\\corpus\\reader\\wordnet.py:1176\u001b[0m, in \u001b[0;36mWordNetCorpusReader.__init__\u001b[1;34m(self, root, omw_reader)\u001b[0m\n\u001b[0;32m   1172\u001b[0m     warnings\u001b[38;5;241m.\u001b[39mwarn(\n\u001b[0;32m   1173\u001b[0m         \u001b[38;5;124m\"\u001b[39m\u001b[38;5;124mThe multilingual functions are not available with this Wordnet version\u001b[39m\u001b[38;5;124m\"\u001b[39m\n\u001b[0;32m   1174\u001b[0m     )\n\u001b[0;32m   1175\u001b[0m \u001b[38;5;28;01melse\u001b[39;00m:\n\u001b[1;32m-> 1176\u001b[0m     \u001b[38;5;28mself\u001b[39m\u001b[38;5;241m.\u001b[39mprovenances \u001b[38;5;241m=\u001b[39m \u001b[38;5;28;43mself\u001b[39;49m\u001b[38;5;241;43m.\u001b[39;49m\u001b[43momw_prov\u001b[49m\u001b[43m(\u001b[49m\u001b[43m)\u001b[49m\n\u001b[0;32m   1178\u001b[0m \u001b[38;5;66;03m# A cache to store the wordnet data of multiple languages\u001b[39;00m\n\u001b[0;32m   1179\u001b[0m \u001b[38;5;28mself\u001b[39m\u001b[38;5;241m.\u001b[39m_lang_data \u001b[38;5;241m=\u001b[39m defaultdict(\u001b[38;5;28mlist\u001b[39m)\n",
      "File \u001b[1;32m~\\anaconda3\\lib\\site-packages\\nltk\\corpus\\reader\\wordnet.py:1285\u001b[0m, in \u001b[0;36mWordNetCorpusReader.omw_prov\u001b[1;34m(self)\u001b[0m\n\u001b[0;32m   1283\u001b[0m provdict \u001b[38;5;241m=\u001b[39m {}\n\u001b[0;32m   1284\u001b[0m provdict[\u001b[38;5;124m\"\u001b[39m\u001b[38;5;124meng\u001b[39m\u001b[38;5;124m\"\u001b[39m] \u001b[38;5;241m=\u001b[39m \u001b[38;5;124m\"\u001b[39m\u001b[38;5;124m\"\u001b[39m\n\u001b[1;32m-> 1285\u001b[0m fileids \u001b[38;5;241m=\u001b[39m \u001b[38;5;28;43mself\u001b[39;49m\u001b[38;5;241;43m.\u001b[39;49m\u001b[43m_omw_reader\u001b[49m\u001b[38;5;241;43m.\u001b[39;49m\u001b[43mfileids\u001b[49m()\n\u001b[0;32m   1286\u001b[0m \u001b[38;5;28;01mfor\u001b[39;00m fileid \u001b[38;5;129;01min\u001b[39;00m fileids:\n\u001b[0;32m   1287\u001b[0m     prov, langfile \u001b[38;5;241m=\u001b[39m os\u001b[38;5;241m.\u001b[39mpath\u001b[38;5;241m.\u001b[39msplit(fileid)\n",
      "File \u001b[1;32m~\\anaconda3\\lib\\site-packages\\nltk\\corpus\\util.py:121\u001b[0m, in \u001b[0;36mLazyCorpusLoader.__getattr__\u001b[1;34m(self, attr)\u001b[0m\n\u001b[0;32m    118\u001b[0m \u001b[38;5;28;01mif\u001b[39;00m attr \u001b[38;5;241m==\u001b[39m \u001b[38;5;124m\"\u001b[39m\u001b[38;5;124m__bases__\u001b[39m\u001b[38;5;124m\"\u001b[39m:\n\u001b[0;32m    119\u001b[0m     \u001b[38;5;28;01mraise\u001b[39;00m \u001b[38;5;167;01mAttributeError\u001b[39;00m(\u001b[38;5;124m\"\u001b[39m\u001b[38;5;124mLazyCorpusLoader object has no attribute \u001b[39m\u001b[38;5;124m'\u001b[39m\u001b[38;5;124m__bases__\u001b[39m\u001b[38;5;124m'\u001b[39m\u001b[38;5;124m\"\u001b[39m)\n\u001b[1;32m--> 121\u001b[0m \u001b[38;5;28;43mself\u001b[39;49m\u001b[38;5;241;43m.\u001b[39;49m\u001b[43m__load\u001b[49m\u001b[43m(\u001b[49m\u001b[43m)\u001b[49m\n\u001b[0;32m    122\u001b[0m \u001b[38;5;66;03m# This looks circular, but its not, since __load() changes our\u001b[39;00m\n\u001b[0;32m    123\u001b[0m \u001b[38;5;66;03m# __class__ to something new:\u001b[39;00m\n\u001b[0;32m    124\u001b[0m \u001b[38;5;28;01mreturn\u001b[39;00m \u001b[38;5;28mgetattr\u001b[39m(\u001b[38;5;28mself\u001b[39m, attr)\n",
      "File \u001b[1;32m~\\anaconda3\\lib\\site-packages\\nltk\\corpus\\util.py:86\u001b[0m, in \u001b[0;36mLazyCorpusLoader.__load\u001b[1;34m(self)\u001b[0m\n\u001b[0;32m     84\u001b[0m             root \u001b[38;5;241m=\u001b[39m nltk\u001b[38;5;241m.\u001b[39mdata\u001b[38;5;241m.\u001b[39mfind(\u001b[38;5;124mf\u001b[39m\u001b[38;5;124m\"\u001b[39m\u001b[38;5;132;01m{\u001b[39;00m\u001b[38;5;28mself\u001b[39m\u001b[38;5;241m.\u001b[39msubdir\u001b[38;5;132;01m}\u001b[39;00m\u001b[38;5;124m/\u001b[39m\u001b[38;5;132;01m{\u001b[39;00mzip_name\u001b[38;5;132;01m}\u001b[39;00m\u001b[38;5;124m\"\u001b[39m)\n\u001b[0;32m     85\u001b[0m         \u001b[38;5;28;01mexcept\u001b[39;00m \u001b[38;5;167;01mLookupError\u001b[39;00m:\n\u001b[1;32m---> 86\u001b[0m             \u001b[38;5;28;01mraise\u001b[39;00m e\n\u001b[0;32m     88\u001b[0m \u001b[38;5;66;03m# Load the corpus.\u001b[39;00m\n\u001b[0;32m     89\u001b[0m corpus \u001b[38;5;241m=\u001b[39m \u001b[38;5;28mself\u001b[39m\u001b[38;5;241m.\u001b[39m__reader_cls(root, \u001b[38;5;241m*\u001b[39m\u001b[38;5;28mself\u001b[39m\u001b[38;5;241m.\u001b[39m__args, \u001b[38;5;241m*\u001b[39m\u001b[38;5;241m*\u001b[39m\u001b[38;5;28mself\u001b[39m\u001b[38;5;241m.\u001b[39m__kwargs)\n",
      "File \u001b[1;32m~\\anaconda3\\lib\\site-packages\\nltk\\corpus\\util.py:81\u001b[0m, in \u001b[0;36mLazyCorpusLoader.__load\u001b[1;34m(self)\u001b[0m\n\u001b[0;32m     79\u001b[0m \u001b[38;5;28;01melse\u001b[39;00m:\n\u001b[0;32m     80\u001b[0m     \u001b[38;5;28;01mtry\u001b[39;00m:\n\u001b[1;32m---> 81\u001b[0m         root \u001b[38;5;241m=\u001b[39m \u001b[43mnltk\u001b[49m\u001b[38;5;241;43m.\u001b[39;49m\u001b[43mdata\u001b[49m\u001b[38;5;241;43m.\u001b[39;49m\u001b[43mfind\u001b[49m\u001b[43m(\u001b[49m\u001b[38;5;124;43mf\u001b[39;49m\u001b[38;5;124;43m\"\u001b[39;49m\u001b[38;5;132;43;01m{\u001b[39;49;00m\u001b[38;5;28;43mself\u001b[39;49m\u001b[38;5;241;43m.\u001b[39;49m\u001b[43msubdir\u001b[49m\u001b[38;5;132;43;01m}\u001b[39;49;00m\u001b[38;5;124;43m/\u001b[39;49m\u001b[38;5;132;43;01m{\u001b[39;49;00m\u001b[38;5;28;43mself\u001b[39;49m\u001b[38;5;241;43m.\u001b[39;49m\u001b[43m__name\u001b[49m\u001b[38;5;132;43;01m}\u001b[39;49;00m\u001b[38;5;124;43m\"\u001b[39;49m\u001b[43m)\u001b[49m\n\u001b[0;32m     82\u001b[0m     \u001b[38;5;28;01mexcept\u001b[39;00m \u001b[38;5;167;01mLookupError\u001b[39;00m \u001b[38;5;28;01mas\u001b[39;00m e:\n\u001b[0;32m     83\u001b[0m         \u001b[38;5;28;01mtry\u001b[39;00m:\n",
      "File \u001b[1;32m~\\anaconda3\\lib\\site-packages\\nltk\\data.py:583\u001b[0m, in \u001b[0;36mfind\u001b[1;34m(resource_name, paths)\u001b[0m\n\u001b[0;32m    581\u001b[0m sep \u001b[38;5;241m=\u001b[39m \u001b[38;5;124m\"\u001b[39m\u001b[38;5;124m*\u001b[39m\u001b[38;5;124m\"\u001b[39m \u001b[38;5;241m*\u001b[39m \u001b[38;5;241m70\u001b[39m\n\u001b[0;32m    582\u001b[0m resource_not_found \u001b[38;5;241m=\u001b[39m \u001b[38;5;124mf\u001b[39m\u001b[38;5;124m\"\u001b[39m\u001b[38;5;130;01m\\n\u001b[39;00m\u001b[38;5;132;01m{\u001b[39;00msep\u001b[38;5;132;01m}\u001b[39;00m\u001b[38;5;130;01m\\n\u001b[39;00m\u001b[38;5;132;01m{\u001b[39;00mmsg\u001b[38;5;132;01m}\u001b[39;00m\u001b[38;5;130;01m\\n\u001b[39;00m\u001b[38;5;132;01m{\u001b[39;00msep\u001b[38;5;132;01m}\u001b[39;00m\u001b[38;5;130;01m\\n\u001b[39;00m\u001b[38;5;124m\"\u001b[39m\n\u001b[1;32m--> 583\u001b[0m \u001b[38;5;28;01mraise\u001b[39;00m \u001b[38;5;167;01mLookupError\u001b[39;00m(resource_not_found)\n",
      "\u001b[1;31mLookupError\u001b[0m: \n**********************************************************************\n  Resource \u001b[93momw-1.4\u001b[0m not found.\n  Please use the NLTK Downloader to obtain the resource:\n\n  \u001b[31m>>> import nltk\n  >>> nltk.download('omw-1.4')\n  \u001b[0m\n  For more information see: https://www.nltk.org/data.html\n\n  Attempted to load \u001b[93mcorpora/omw-1.4\u001b[0m\n\n  Searched in:\n    - 'C:\\\\Users\\\\wmorales/nltk_data'\n    - 'C:\\\\Users\\\\wmorales\\\\anaconda3\\\\nltk_data'\n    - 'C:\\\\Users\\\\wmorales\\\\anaconda3\\\\share\\\\nltk_data'\n    - 'C:\\\\Users\\\\wmorales\\\\anaconda3\\\\lib\\\\nltk_data'\n    - 'C:\\\\Users\\\\wmorales\\\\AppData\\\\Roaming\\\\nltk_data'\n    - 'C:\\\\nltk_data'\n    - 'D:\\\\nltk_data'\n    - 'E:\\\\nltk_data'\n**********************************************************************\n"
     ]
    }
   ],
   "source": [
    "### Procesamiento y split de Datos 2\n",
    "\n",
    "from nltk.stem import WordNetLemmatizer\n",
    "from nltk.corpus import wordnet\n",
    "import nltk\n",
    "\n",
    "nltk.download('averaged_perceptron_tagger')\n",
    "nltk.download('wordnet')\n",
    "\n",
    "lemmatizer = WordNetLemmatizer()\n",
    "\n",
    "# Función para convertir la etiqueta POS de nltk en una etiqueta POS que lemmatize() puede usar\n",
    "def get_wordnet_pos(word):\n",
    "    tag = nltk.pos_tag([word])[0][1][0].upper()\n",
    "    tag_dict = {\"J\": wordnet.ADJ,\n",
    "                \"N\": wordnet.NOUN,\n",
    "                \"V\": wordnet.VERB,\n",
    "                \"R\": wordnet.ADV}\n",
    "    return tag_dict.get(tag, wordnet.NOUN)\n",
    "\n",
    "# Aplicar lemmatization en lugar de simplemente dividir en palabras\n",
    "movie_plots = [' '.join([lemmatizer.lemmatize(word, get_wordnet_pos(word)) \n",
    "                         for word in plot.lower().split() if word not in stop_words])\n",
    "               for plot in movie_plots]\n",
    "\n",
    "# Ajuste del tokenizador\n",
    "tokenizer = Tokenizer(num_words=4000)  # puedes ajustar num_words según tus datos\n",
    "tokenizer.fit_on_texts(movie_plots)\n",
    "\n",
    "# Transforma el texto en secuencias de enteros\n",
    "sequences = tokenizer.texts_to_sequences(movie_plots)\n",
    "word_index = tokenizer.word_index\n",
    "\n",
    "# Ajustar la longitud de las secuencias con pad_sequences\n",
    "X = pad_sequences(sequences, maxlen=4000)  # puedes ajustar maxlen según tus datos\n",
    "\n",
    "# Convertir las cadenas de lista en listas\n",
    "dataTraining['genres'] = dataTraining['genres'].apply(eval)\n",
    "\n",
    "# Inicializar MultiLabelBinarizer\n",
    "mlb = MultiLabelBinarizer()\n",
    "\n",
    "# Ajustar y transformar los géneros a representación binaria\n",
    "labels = mlb.fit_transform(dataTraining['genres'])\n",
    "\n",
    "\n",
    "# Dividir los datos en conjuntos de entrenamiento y prueba\n",
    "x_train, x_test, y_train, y_test = train_test_split(X, labels, test_size=0.3, random_state=42)"
   ]
  },
  {
   "cell_type": "code",
   "execution_count": 75,
   "id": "dca12176",
   "metadata": {},
   "outputs": [],
   "source": [
    "#Procesamiento de datos 3\n",
    "\n",
    "from sklearn.feature_extraction.text import CountVectorizer, TfidfTransformer\n",
    "from keras.models import Sequential\n",
    "from keras.layers import Dense\n",
    "from sklearn.model_selection import train_test_split\n",
    "\n",
    "# Preprocesamiento de texto y transformación con TF-IDF\n",
    "tfidf_transformer = TfidfTransformer(use_idf=True, smooth_idf=True, sublinear_tf=False)\n",
    "vect = CountVectorizer(stop_words='english', ngram_range=(1, 2),max_features=200)\n",
    "X_dtm_1 = vect.fit_transform(dataTraining['plot'])\n",
    "X_dtm = tfidf_transformer.fit_transform(X_dtm_1)\n",
    "\n",
    "X = X_dtm.toarray()\n",
    "\n",
    "\n",
    "x_train, x_test, y_train, y_test = train_test_split(X, labels, test_size=0.3, random_state=4)"
   ]
  },
  {
   "cell_type": "code",
   "execution_count": 76,
   "id": "5f0e5e5d",
   "metadata": {},
   "outputs": [
    {
     "data": {
      "text/plain": [
       "(5526, 200)"
      ]
     },
     "execution_count": 76,
     "metadata": {},
     "output_type": "execute_result"
    }
   ],
   "source": [
    "x_train.shape"
   ]
  },
  {
   "cell_type": "code",
   "execution_count": 269,
   "id": "0fc5f678",
   "metadata": {},
   "outputs": [
    {
     "ename": "TypeError",
     "evalue": "object of type 'numpy.int32' has no len()",
     "output_type": "error",
     "traceback": [
      "\u001b[1;31m---------------------------------------------------------------------------\u001b[0m",
      "\u001b[1;31mTypeError\u001b[0m                                 Traceback (most recent call last)",
      "Cell \u001b[1;32mIn[269], line 19\u001b[0m\n\u001b[0;32m     17\u001b[0m model\u001b[38;5;241m.\u001b[39madd(Embedding(\u001b[38;5;28mlen\u001b[39m(word_index) \u001b[38;5;241m+\u001b[39m \u001b[38;5;241m1\u001b[39m, \u001b[38;5;241m128\u001b[39m, input_length\u001b[38;5;241m=\u001b[39m\u001b[38;5;241m500\u001b[39m))\n\u001b[0;32m     18\u001b[0m model\u001b[38;5;241m.\u001b[39madd(LSTM(\u001b[38;5;241m128\u001b[39m, dropout\u001b[38;5;241m=\u001b[39m\u001b[38;5;241m0.2\u001b[39m, recurrent_dropout\u001b[38;5;241m=\u001b[39m\u001b[38;5;241m0.2\u001b[39m))\n\u001b[1;32m---> 19\u001b[0m model\u001b[38;5;241m.\u001b[39madd(Dense(\u001b[38;5;28;43mlen\u001b[39;49m\u001b[43m(\u001b[49m\u001b[43mlabels\u001b[49m\u001b[43m[\u001b[49m\u001b[38;5;241;43m0\u001b[39;49m\u001b[43m]\u001b[49m\u001b[43m)\u001b[49m, activation\u001b[38;5;241m=\u001b[39m\u001b[38;5;124m'\u001b[39m\u001b[38;5;124msigmoid\u001b[39m\u001b[38;5;124m'\u001b[39m)) \u001b[38;5;66;03m# Cambiar 'softmax' por 'sigmoid'\u001b[39;00m\n\u001b[0;32m     21\u001b[0m \u001b[38;5;66;03m# Compilar el modelo\u001b[39;00m\n\u001b[0;32m     22\u001b[0m model\u001b[38;5;241m.\u001b[39mcompile(loss\u001b[38;5;241m=\u001b[39m\u001b[38;5;124m'\u001b[39m\u001b[38;5;124mbinary_crossentropy\u001b[39m\u001b[38;5;124m'\u001b[39m,  \u001b[38;5;66;03m# Cambiar 'categorical_crossentropy' por 'binary_crossentropy'\u001b[39;00m\n\u001b[0;32m     23\u001b[0m               optimizer\u001b[38;5;241m=\u001b[39m\u001b[38;5;124m'\u001b[39m\u001b[38;5;124madam\u001b[39m\u001b[38;5;124m'\u001b[39m,\n\u001b[0;32m     24\u001b[0m               metrics\u001b[38;5;241m=\u001b[39m[\u001b[38;5;124m'\u001b[39m\u001b[38;5;124maccuracy\u001b[39m\u001b[38;5;124m'\u001b[39m])\n",
      "\u001b[1;31mTypeError\u001b[0m: object of type 'numpy.int32' has no len()"
     ]
    }
   ],
   "source": [
    "import numpy as np\n",
    "from keras.preprocessing.text import Tokenizer\n",
    "from keras.utils import pad_sequences\n",
    "from keras.models import Sequential\n",
    "from keras.layers import Dense, Embedding, GlobalMaxPooling1D, Conv1D, LSTM\n",
    "from sklearn.preprocessing import MultiLabelBinarizer\n",
    "from sklearn.model_selection import train_test_split\n",
    "from keras.optimizers import Adam\n",
    "from nltk.corpus import stopwords\n",
    "from livelossplot import PlotLossesKeras\n",
    "import nltk\n",
    "\n",
    "\n",
    "\n",
    "# Construir el modelo\n",
    "model = Sequential()\n",
    "model.add(Embedding(len(word_index) + 1, 128, input_length=500))\n",
    "model.add(LSTM(128, dropout=0.2, recurrent_dropout=0.2))\n",
    "model.add(Dense(len(labels[0]), activation='sigmoid')) # Cambiar 'softmax' por 'sigmoid'\n",
    "\n",
    "# Compilar el modelo\n",
    "model.compile(loss='binary_crossentropy',  # Cambiar 'categorical_crossentropy' por 'binary_crossentropy'\n",
    "              optimizer='adam',\n",
    "              metrics=['accuracy'])\n",
    "\n",
    "# Entrenar el modelo\n",
    "#model.fit(padded_docs_train, y_train,\n",
    "          #batch_size=128,\n",
    "          #epochs=5,\n",
    "          #validation_data=(x_test, y_test))#\n",
    "\n",
    "\n",
    "### #Compilacion del modelo \n",
    "model.compile(optimizer='adam', loss='binary_crossentropy', metrics=['accuracy'])\n",
    "\n",
    "\n",
    "# Early stopping para detener el entrenamiento cuando el modelo deje de mejorar\n",
    "early_stop = EarlyStopping(monitor='val_loss', patience=2, verbose=1)\n",
    "\n",
    "model.fit(padded_docs_train, y_train, validation_data=(padded_docs_test, y_test), epochs=50, callbacks=[early_stop,PlotLossesKeras()])\n",
    "\n",
    "\n"
   ]
  },
  {
   "cell_type": "code",
   "execution_count": 27,
   "id": "f715887f",
   "metadata": {},
   "outputs": [
    {
     "name": "stdout",
     "output_type": "stream",
     "text": [
      "106/106 [==============================] - 7s 69ms/step\n"
     ]
    }
   ],
   "source": [
    "# transformación variables predictoras X del conjunto de test\n",
    "\n",
    "movie_plots_test = dataTesting['plot']\n",
    "movie_plots_test = [' '.join([word for word in plot.lower().split() if word not in stop_words])\n",
    "               for plot in movie_plots_test]\n",
    "tokenizer.fit_on_texts(movie_plots_test)\n",
    "sequences_2 = tokenizer.texts_to_sequences(movie_plots_test)\n",
    "X_test = pad_sequences(sequences_2, maxlen=500)\n",
    "\n",
    "\n",
    "cols = ['p_Action', 'p_Adventure', 'p_Animation', 'p_Biography', 'p_Comedy', 'p_Crime', 'p_Documentary', 'p_Drama', 'p_Family',\n",
    "        'p_Fantasy', 'p_Film-Noir', 'p_History', 'p_Horror', 'p_Music', 'p_Musical', 'p_Mystery', 'p_News', 'p_Romance',\n",
    "        'p_Sci-Fi', 'p_Short', 'p_Sport', 'p_Thriller', 'p_War', 'p_Western']\n",
    "\n",
    "# Predicción del conjunto de test\n",
    "y_pred_test_genres = model.predict(X_test)"
   ]
  },
  {
   "cell_type": "code",
   "execution_count": 28,
   "id": "1cd2aea8",
   "metadata": {},
   "outputs": [
    {
     "data": {
      "text/html": [
       "<div>\n",
       "<style scoped>\n",
       "    .dataframe tbody tr th:only-of-type {\n",
       "        vertical-align: middle;\n",
       "    }\n",
       "\n",
       "    .dataframe tbody tr th {\n",
       "        vertical-align: top;\n",
       "    }\n",
       "\n",
       "    .dataframe thead th {\n",
       "        text-align: right;\n",
       "    }\n",
       "</style>\n",
       "<table border=\"1\" class=\"dataframe\">\n",
       "  <thead>\n",
       "    <tr style=\"text-align: right;\">\n",
       "      <th></th>\n",
       "      <th>p_Action</th>\n",
       "      <th>p_Adventure</th>\n",
       "      <th>p_Animation</th>\n",
       "      <th>p_Biography</th>\n",
       "      <th>p_Comedy</th>\n",
       "      <th>p_Crime</th>\n",
       "      <th>p_Documentary</th>\n",
       "      <th>p_Drama</th>\n",
       "      <th>p_Family</th>\n",
       "      <th>p_Fantasy</th>\n",
       "      <th>...</th>\n",
       "      <th>p_Musical</th>\n",
       "      <th>p_Mystery</th>\n",
       "      <th>p_News</th>\n",
       "      <th>p_Romance</th>\n",
       "      <th>p_Sci-Fi</th>\n",
       "      <th>p_Short</th>\n",
       "      <th>p_Sport</th>\n",
       "      <th>p_Thriller</th>\n",
       "      <th>p_War</th>\n",
       "      <th>p_Western</th>\n",
       "    </tr>\n",
       "  </thead>\n",
       "  <tbody>\n",
       "    <tr>\n",
       "      <th>1</th>\n",
       "      <td>0.266457</td>\n",
       "      <td>0.082089</td>\n",
       "      <td>0.018396</td>\n",
       "      <td>0.044112</td>\n",
       "      <td>0.265961</td>\n",
       "      <td>0.284068</td>\n",
       "      <td>0.112413</td>\n",
       "      <td>0.472100</td>\n",
       "      <td>0.060196</td>\n",
       "      <td>0.044251</td>\n",
       "      <td>...</td>\n",
       "      <td>0.021417</td>\n",
       "      <td>0.140248</td>\n",
       "      <td>0.000976</td>\n",
       "      <td>0.084556</td>\n",
       "      <td>0.025974</td>\n",
       "      <td>0.016949</td>\n",
       "      <td>0.037573</td>\n",
       "      <td>0.445536</td>\n",
       "      <td>0.065915</td>\n",
       "      <td>0.044133</td>\n",
       "    </tr>\n",
       "    <tr>\n",
       "      <th>4</th>\n",
       "      <td>0.091251</td>\n",
       "      <td>0.020430</td>\n",
       "      <td>0.004616</td>\n",
       "      <td>0.090702</td>\n",
       "      <td>0.376203</td>\n",
       "      <td>0.244862</td>\n",
       "      <td>0.053615</td>\n",
       "      <td>0.653751</td>\n",
       "      <td>0.023926</td>\n",
       "      <td>0.019496</td>\n",
       "      <td>...</td>\n",
       "      <td>0.028271</td>\n",
       "      <td>0.065270</td>\n",
       "      <td>0.000979</td>\n",
       "      <td>0.170264</td>\n",
       "      <td>0.005488</td>\n",
       "      <td>0.012160</td>\n",
       "      <td>0.056804</td>\n",
       "      <td>0.214850</td>\n",
       "      <td>0.052608</td>\n",
       "      <td>0.015152</td>\n",
       "    </tr>\n",
       "    <tr>\n",
       "      <th>5</th>\n",
       "      <td>0.022685</td>\n",
       "      <td>0.013433</td>\n",
       "      <td>0.002781</td>\n",
       "      <td>0.032276</td>\n",
       "      <td>0.490477</td>\n",
       "      <td>0.126610</td>\n",
       "      <td>0.006812</td>\n",
       "      <td>0.743174</td>\n",
       "      <td>0.018175</td>\n",
       "      <td>0.027152</td>\n",
       "      <td>...</td>\n",
       "      <td>0.046061</td>\n",
       "      <td>0.076860</td>\n",
       "      <td>0.001194</td>\n",
       "      <td>0.703572</td>\n",
       "      <td>0.005802</td>\n",
       "      <td>0.006173</td>\n",
       "      <td>0.046793</td>\n",
       "      <td>0.128982</td>\n",
       "      <td>0.017650</td>\n",
       "      <td>0.007208</td>\n",
       "    </tr>\n",
       "    <tr>\n",
       "      <th>6</th>\n",
       "      <td>0.281281</td>\n",
       "      <td>0.064066</td>\n",
       "      <td>0.009842</td>\n",
       "      <td>0.030833</td>\n",
       "      <td>0.249470</td>\n",
       "      <td>0.462358</td>\n",
       "      <td>0.044725</td>\n",
       "      <td>0.645365</td>\n",
       "      <td>0.053575</td>\n",
       "      <td>0.033372</td>\n",
       "      <td>...</td>\n",
       "      <td>0.023959</td>\n",
       "      <td>0.210948</td>\n",
       "      <td>0.000844</td>\n",
       "      <td>0.110607</td>\n",
       "      <td>0.017298</td>\n",
       "      <td>0.010568</td>\n",
       "      <td>0.035704</td>\n",
       "      <td>0.617225</td>\n",
       "      <td>0.065444</td>\n",
       "      <td>0.030987</td>\n",
       "    </tr>\n",
       "    <tr>\n",
       "      <th>7</th>\n",
       "      <td>0.307329</td>\n",
       "      <td>0.198212</td>\n",
       "      <td>0.036357</td>\n",
       "      <td>0.026273</td>\n",
       "      <td>0.220719</td>\n",
       "      <td>0.179258</td>\n",
       "      <td>0.051225</td>\n",
       "      <td>0.377106</td>\n",
       "      <td>0.118287</td>\n",
       "      <td>0.125298</td>\n",
       "      <td>...</td>\n",
       "      <td>0.027586</td>\n",
       "      <td>0.209045</td>\n",
       "      <td>0.001047</td>\n",
       "      <td>0.088837</td>\n",
       "      <td>0.081543</td>\n",
       "      <td>0.012477</td>\n",
       "      <td>0.023003</td>\n",
       "      <td>0.514213</td>\n",
       "      <td>0.043920</td>\n",
       "      <td>0.050293</td>\n",
       "    </tr>\n",
       "  </tbody>\n",
       "</table>\n",
       "<p>5 rows × 24 columns</p>\n",
       "</div>"
      ],
      "text/plain": [
       "   p_Action  p_Adventure  p_Animation  p_Biography  p_Comedy   p_Crime  \\\n",
       "1  0.266457     0.082089     0.018396     0.044112  0.265961  0.284068   \n",
       "4  0.091251     0.020430     0.004616     0.090702  0.376203  0.244862   \n",
       "5  0.022685     0.013433     0.002781     0.032276  0.490477  0.126610   \n",
       "6  0.281281     0.064066     0.009842     0.030833  0.249470  0.462358   \n",
       "7  0.307329     0.198212     0.036357     0.026273  0.220719  0.179258   \n",
       "\n",
       "   p_Documentary   p_Drama  p_Family  p_Fantasy  ...  p_Musical  p_Mystery  \\\n",
       "1       0.112413  0.472100  0.060196   0.044251  ...   0.021417   0.140248   \n",
       "4       0.053615  0.653751  0.023926   0.019496  ...   0.028271   0.065270   \n",
       "5       0.006812  0.743174  0.018175   0.027152  ...   0.046061   0.076860   \n",
       "6       0.044725  0.645365  0.053575   0.033372  ...   0.023959   0.210948   \n",
       "7       0.051225  0.377106  0.118287   0.125298  ...   0.027586   0.209045   \n",
       "\n",
       "     p_News  p_Romance  p_Sci-Fi   p_Short   p_Sport  p_Thriller     p_War  \\\n",
       "1  0.000976   0.084556  0.025974  0.016949  0.037573    0.445536  0.065915   \n",
       "4  0.000979   0.170264  0.005488  0.012160  0.056804    0.214850  0.052608   \n",
       "5  0.001194   0.703572  0.005802  0.006173  0.046793    0.128982  0.017650   \n",
       "6  0.000844   0.110607  0.017298  0.010568  0.035704    0.617225  0.065444   \n",
       "7  0.001047   0.088837  0.081543  0.012477  0.023003    0.514213  0.043920   \n",
       "\n",
       "   p_Western  \n",
       "1   0.044133  \n",
       "4   0.015152  \n",
       "5   0.007208  \n",
       "6   0.030987  \n",
       "7   0.050293  \n",
       "\n",
       "[5 rows x 24 columns]"
      ]
     },
     "execution_count": 28,
     "metadata": {},
     "output_type": "execute_result"
    }
   ],
   "source": [
    "# Guardar predicciones en formato exigido en la competencia de kaggle\n",
    "res = pd.DataFrame(y_pred_test_genres, index=dataTesting.index, columns=cols)\n",
    "res.to_csv('pred_genres_text_RN_3.csv', index_label='ID')\n",
    "res.head()"
   ]
  },
  {
   "cell_type": "code",
   "execution_count": 78,
   "id": "567a7ea1",
   "metadata": {},
   "outputs": [],
   "source": [
    "# Otra Red \n",
    "\n",
    "from keras.models import Sequential\n",
    "from keras.layers import Flatten, Dense, Softmax, Dropout\n",
    "\n",
    "model = Sequential()\n",
    "model.add(Dense(256, input_shape = x_train[0].shape, activation = 'relu'))\n",
    "model.add(Dense(128, activation = 'relu'))\n",
    "model.add(Dense(128, activation = 'sigmoid'))\n",
    "model.add(Dense(128, activation = 'relu'))\n",
    "model.add(Dense(128, activation = 'sigmoid'))\n",
    "model.add(Dropout(0.2))\n",
    "model.add(Dense(24, activation='sigmoid'))\n",
    "\n",
    "model.compile(optimizer = 'adam',\n",
    "              loss=CategoricalCrossentropy(),\n",
    "              metrics=['accuracy'])"
   ]
  },
  {
   "cell_type": "code",
   "execution_count": 40,
   "id": "348a1308",
   "metadata": {},
   "outputs": [
    {
     "data": {
      "text/plain": [
       "(500,)"
      ]
     },
     "execution_count": 40,
     "metadata": {},
     "output_type": "execute_result"
    }
   ],
   "source": [
    "X[0].shape"
   ]
  },
  {
   "cell_type": "code",
   "execution_count": 79,
   "id": "361bdc62",
   "metadata": {},
   "outputs": [
    {
     "data": {
      "image/png": "[encoded data removed]",
      "text/plain": [
       "<Figure size 1200x800 with 2 Axes>"
      ]
     },
     "metadata": {},
     "output_type": "display_data"
    },
    {
     "name": "stdout",
     "output_type": "stream",
     "text": [
      "accuracy\n",
      "\ttraining         \t (min:    0.172, max:    0.206, cur:    0.206)\n",
      "\tvalidation       \t (min:    0.201, max:    0.201, cur:    0.201)\n",
      "Loss\n",
      "\ttraining         \t (min:    8.529, max:   12.774, cur:   12.774)\n",
      "\tvalidation       \t (min:    8.517, max:   12.261, cur:   12.261)\n",
      "173/173 [==============================] - 4s 22ms/step - loss: 12.7740 - accuracy: 0.2058 - val_loss: 12.2610 - val_accuracy: 0.2005\n",
      "Epoch 6: early stopping\n"
     ]
    },
    {
     "data": {
      "text/plain": [
       "<keras.callbacks.History at 0x1e886df2aa0>"
      ]
     },
     "execution_count": 79,
     "metadata": {},
     "output_type": "execute_result"
    }
   ],
   "source": [
    "#history = model.fit(features, y_train, validation_data = (features_test, y_test), epochs = 50)\n",
    "\n",
    "model.fit(x_train, y_train, validation_data=(x_test, y_test), epochs=50,callbacks=[early_stop, PlotLossesKeras()])"
   ]
  },
  {
   "cell_type": "code",
   "execution_count": 77,
   "id": "aef2a67f",
   "metadata": {},
   "outputs": [
    {
     "data": {
      "image/png": "[encoded data removed]",
      "text/plain": [
       "<Figure size 1200x800 with 2 Axes>"
      ]
     },
     "metadata": {},
     "output_type": "display_data"
    },
    {
     "name": "stdout",
     "output_type": "stream",
     "text": [
      "accuracy\n",
      "\ttraining         \t (min:    0.132, max:    0.174, cur:    0.140)\n",
      "\tvalidation       \t (min:    0.002, max:    0.293, cur:    0.005)\n",
      "Loss\n",
      "\ttraining         \t (min:  467.769, max: 400154.625, cur: 400154.625)\n",
      "\tvalidation       \t (min: 1852.986, max: 435110.812, cur: 435110.812)\n",
      "173/173 [==============================] - 3s 18ms/step - loss: 400154.6250 - accuracy: 0.1399 - val_loss: 435110.8125 - val_accuracy: 0.0051\n",
      "Epoch 6: early stopping\n"
     ]
    },
    {
     "data": {
      "text/plain": [
       "<keras.callbacks.History at 0x1e81e55d2d0>"
      ]
     },
     "execution_count": 77,
     "metadata": {},
     "output_type": "execute_result"
    }
   ],
   "source": [
    "from keras.models import Sequential\n",
    "from keras.layers import Dense, Dropout\n",
    "from keras.optimizers import Adam\n",
    "from keras.callbacks import EarlyStopping\n",
    "from keras.losses import CategoricalCrossentropy\n",
    "\n",
    "# Definición del modelo\n",
    "model = Sequential()\n",
    "model.add(Dense(256, input_shape = x_train[0].shape, activation = 'relu'))\n",
    "model.add(Dropout(0.2)) # Añade Dropout para prevenir el overfitting\n",
    "model.add(Dense(128, activation = 'relu'))\n",
    "model.add(Dropout(0.2)) # Añade Dropout\n",
    "model.add(Dense(64, activation = 'relu')) # Añade otra capa Dense\n",
    "model.add(Dense(24, activation='softmax')) # Usa 'softmax' en la última capa para clasificación multiclase\n",
    "\n",
    "# Optimizador Adam con tasa de aprendizaje personalizada\n",
    "optimizer = Adam(learning_rate=0.001)\n",
    "\n",
    "# Compilación del modelo\n",
    "model.compile(optimizer = optimizer,\n",
    "              loss=CategoricalCrossentropy(), # Usa CategoricalCrossentropy para la clasificación multiclase\n",
    "              metrics=['accuracy'])\n",
    "\n",
    "# Early stopping para detener el entrenamiento cuando el modelo deje de mejorar\n",
    "early_stop = EarlyStopping(monitor='val_loss', patience=5, verbose=1)\n",
    "\n",
    "model.fit(x_train, y_train, validation_data=(x_test, y_test), epochs=50, callbacks=[early_stop,PlotLossesKeras()])\n"
   ]
  },
  {
   "cell_type": "code",
   "execution_count": 270,
   "id": "fa3c1382",
   "metadata": {},
   "outputs": [],
   "source": [
    "# Carga de datos de archivo .csv\n",
    "dataTraining = pd.read_csv('https://github.com/albahnsen/MIAD_ML_and_NLP/raw/main/datasets/dataTraining.zip', encoding='UTF-8', index_col=0)\n",
    "dataTesting = pd.read_csv('https://github.com/albahnsen/MIAD_ML_and_NLP/raw/main/datasets/dataTesting.zip', encoding='UTF-8', index_col=0)"
   ]
  },
  {
   "cell_type": "code",
   "execution_count": 147,
   "id": "55888c8a",
   "metadata": {},
   "outputs": [],
   "source": [
    "# Idf \n",
    "from sklearn.feature_extraction.text import CountVectorizer, TfidfTransformer\n",
    "# tfidf_transformer = TfidfTransformer(use_idf=True, smooth_idf=True, sublinear_tf=False) ##Pruebas 2\n",
    "vect = CountVectorizer(stop_words='english') # puse bigramas\n",
    "X_dtm_1 = vect.fit_transform(dataTraining['plot'])\n",
    "\n",
    "X_dtm = tfidf_transformer.fit_transform(X_dtm_1)\n",
    "X = X_dtm.toarray()"
   ]
  },
  {
   "cell_type": "code",
   "execution_count": 137,
   "id": "443b6bd1",
   "metadata": {},
   "outputs": [],
   "source": [
    "vectorizer = TfidfVectorizer(stop_words='english')\n",
    "X = vectorizer.fit_transform(dataTraining['plot']).toarray()"
   ]
  },
  {
   "cell_type": "code",
   "execution_count": 119,
   "id": "db5a0748",
   "metadata": {},
   "outputs": [],
   "source": [
    "# Definición de variable de interés (y)\n",
    "dataTraining['genres'] = dataTraining['genres'].map(lambda x: eval(x))\n",
    "le = MultiLabelBinarizer()\n",
    "y_genres = le.fit_transform(dataTraining['genres'])\n",
    "Y= np.array(y_genres)\n"
   ]
  },
  {
   "cell_type": "code",
   "execution_count": 148,
   "id": "d5d0d0fb",
   "metadata": {},
   "outputs": [],
   "source": [
    "# Separación de variables predictoras (X) y variable de interés (y) en set de entrenamiento y test usandola función train_test_split\n",
    "x_train, x_test, y_train, y_test = train_test_split(X, Y, test_size=0.3, random_state=42)"
   ]
  },
  {
   "cell_type": "code",
   "execution_count": 143,
   "id": "daa7a6fb",
   "metadata": {},
   "outputs": [
    {
     "data": {
      "text/plain": [
       "(5526, 24)"
      ]
     },
     "execution_count": 143,
     "metadata": {},
     "output_type": "execute_result"
    }
   ],
   "source": [
    "y_train.shape"
   ]
  },
  {
   "cell_type": "code",
   "execution_count": 154,
   "id": "d63ca43f",
   "metadata": {},
   "outputs": [
    {
     "data": {
      "image/png": "[encoded data removed]",
      "text/plain": [
       "<Figure size 1200x800 with 2 Axes>"
      ]
     },
     "metadata": {},
     "output_type": "display_data"
    },
    {
     "name": "stdout",
     "output_type": "stream",
     "text": [
      "accuracy\n",
      "\ttraining         \t (min:    0.131, max:    0.184, cur:    0.135)\n",
      "\tvalidation       \t (min:    0.001, max:    0.076, cur:    0.001)\n",
      "Loss\n",
      "\ttraining         \t (min:  294.053, max: 24770.713, cur: 24770.713)\n",
      "\tvalidation       \t (min: 1005.928, max: 43992.180, cur: 43992.180)\n",
      "173/173 [==============================] - 61s 353ms/step - loss: 24770.7129 - accuracy: 0.1352 - val_loss: 43992.1797 - val_accuracy: 0.0013\n",
      "Epoch 3: early stopping\n"
     ]
    },
    {
     "data": {
      "text/plain": [
       "<keras.callbacks.History at 0x1e88913ce50>"
      ]
     },
     "execution_count": 154,
     "metadata": {},
     "output_type": "execute_result"
    }
   ],
   "source": [
    "from keras.models import Sequential\n",
    "from keras.layers import Dense, Dropout\n",
    "from keras.optimizers import Adam\n",
    "from keras.callbacks import EarlyStopping\n",
    "from keras.losses import CategoricalCrossentropy\n",
    "\n",
    "# Construcción del modelo de red neuronal\n",
    "model = Sequential()\n",
    "model.add(Dense(256, input_shape=(x_train.shape[1],), activation='relu'))\n",
    "model.add(Dense(128, activation='relu'))\n",
    "model.add(Dense(64, activation='relu'))\n",
    "model.add(Dense(24, activation='softmax'))\n",
    "\n",
    "\n",
    "#Compilacion del modelo \n",
    "model.compile(optimizer='adam', loss=CategoricalCrossentropy(), metrics=['accuracy'])\n",
    "\n",
    "\n",
    "# Early stopping para detener el entrenamiento cuando el modelo deje de mejorar\n",
    "early_stop = EarlyStopping(monitor='val_loss', patience=2, verbose=1)\n",
    "\n",
    "model.fit(x_train, y_train, validation_data=(x_test, y_test), epochs=20, callbacks=[early_stop,PlotLossesKeras()])\n"
   ]
  },
  {
   "cell_type": "code",
   "execution_count": 161,
   "id": "90c00397",
   "metadata": {},
   "outputs": [
    {
     "name": "stdout",
     "output_type": "stream",
     "text": [
      "50/50 [==============================] - 2s 33ms/step\n",
      "AUC: 0.5067284568795953\n"
     ]
    }
   ],
   "source": [
    "from sklearn.metrics import roc_auc_score\n",
    "\n",
    "# Obtén las predicciones de tu modelo como probabilidades\n",
    "y_pred_proba = model.predict(x_test)\n",
    "\n",
    "# Calcula el AUC-ROC para cada etiqueta y luego toma el promedio\n",
    "auc = roc_auc_score(y_test, y_pred_proba, average='macro', multi_class='ovr')\n",
    "\n",
    "print('AUC:', auc)\n"
   ]
  },
  {
   "cell_type": "code",
   "execution_count": 159,
   "id": "d9aae468",
   "metadata": {},
   "outputs": [],
   "source": [
    "from sklearn.feature_extraction.text import TfidfVectorizer\n",
    "\n",
    "vectorizer = TfidfVectorizer(stop_words='english', lowercase = True)\n",
    "X = vectorizer.fit_transform(dataTraining['plot']).toarray()\n",
    "\n",
    "\n",
    "# Definición de variable de interés (y)\n",
    "dataTraining['genres'] = dataTraining['genres'].map(lambda x: eval(x))\n",
    "le = MultiLabelBinarizer()\n",
    "y_genres = le.fit_transform(dataTraining['genres'])\n",
    "Y= np.array(y_genres)\n",
    "\n",
    "\n",
    "\n",
    "# Separación de variables predictoras (X) y variable de interés (y) en set de entrenamiento y test usandola función train_test_split\n",
    "x_train, x_test, y_train, y_test = train_test_split(X, Y, test_size=0.2, random_state=42)\n",
    "\n",
    "\n"
   ]
  },
  {
   "cell_type": "code",
   "execution_count": 160,
   "id": "91235e26",
   "metadata": {},
   "outputs": [
    {
     "data": {
      "image/png": "[encoded data removed]",
      "text/plain": [
       "<Figure size 1200x800 with 2 Axes>"
      ]
     },
     "metadata": {},
     "output_type": "display_data"
    },
    {
     "name": "stdout",
     "output_type": "stream",
     "text": [
      "accuracy\n",
      "\ttraining         \t (min:    0.164, max:    0.195, cur:    0.164)\n",
      "\tvalidation       \t (min:    0.187, max:    0.310, cur:    0.310)\n",
      "Loss\n",
      "\ttraining         \t (min:   24.725, max:  140.941, cur:  140.941)\n",
      "\tvalidation       \t (min:   51.329, max:  202.644, cur:  202.644)\n",
      "198/198 [==============================] - 59s 298ms/step - loss: 140.9410 - accuracy: 0.1643 - val_loss: 202.6445 - val_accuracy: 0.3097\n",
      "Epoch 3: early stopping\n"
     ]
    },
    {
     "data": {
      "text/plain": [
       "<keras.callbacks.History at 0x1e88f8bcfd0>"
      ]
     },
     "execution_count": 160,
     "metadata": {},
     "output_type": "execute_result"
    }
   ],
   "source": [
    "from keras.models import Sequential\n",
    "from keras.layers import Flatten, Dense, Softmax, Dropout\n",
    "\n",
    "model = Sequential()\n",
    "model.add(Dense(256, input_shape = (x_train.shape[1],), activation = 'relu'))\n",
    "model.add(Dense(128, activation = 'relu'))\n",
    "model.add(Dense(128, activation = 'sigmoid'))\n",
    "model.add(Dense(128, activation = 'relu'))\n",
    "model.add(Dense(128, activation = 'sigmoid'))\n",
    "model.add(Dropout(0.2))\n",
    "model.add(Dense(64))\n",
    "model.add(Dense(24, activation='softmax'))\n",
    "\n",
    "\n",
    "\n",
    "#Compilacion del modelo \n",
    "model.compile(optimizer='adam', loss=CategoricalCrossentropy(), metrics=['accuracy'])\n",
    "\n",
    "\n",
    "# Early stopping para detener el entrenamiento cuando el modelo deje de mejorar\n",
    "early_stop = EarlyStopping(monitor='val_loss', patience=2, verbose=1)\n",
    "\n",
    "model.fit(x_train, y_train, validation_data=(x_test, y_test), epochs=10, callbacks=[early_stop,PlotLossesKeras()])\n"
   ]
  },
  {
   "cell_type": "code",
   "execution_count": null,
   "id": "d1194066",
   "metadata": {},
   "outputs": [],
   "source": []
  },
  {
   "cell_type": "code",
   "execution_count": 174,
   "id": "9e4813a1",
   "metadata": {},
   "outputs": [],
   "source": [
    "df = dataTraining \n",
    "df_test = dataTesting"
   ]
  },
  {
   "cell_type": "code",
   "execution_count": 175,
   "id": "d9f6efb7",
   "metadata": {},
   "outputs": [],
   "source": [
    "def gdd(x):\n",
    "    a=x.split()\n",
    "    return len(a)"
   ]
  },
  {
   "cell_type": "code",
   "execution_count": 176,
   "id": "fa9f5fba",
   "metadata": {},
   "outputs": [],
   "source": [
    "import re\n",
    "\n",
    "def decontracted(phrase):\n",
    "    # specific\n",
    "    phrase = re.sub(r\"won't\", \"will not\", phrase)\n",
    "    phrase = re.sub(r\"can\\'t\", \"can not\", phrase)\n",
    "\n",
    "    # general\n",
    "    phrase = re.sub(r\"n\\'t\", \" not\", phrase)\n",
    "    phrase = re.sub(r\"\\'re\", \" are\", phrase)\n",
    "    phrase = re.sub(r\"\\'s\", \" is\", phrase)\n",
    "    phrase = re.sub(r\"\\'d\", \" would\", phrase)\n",
    "    phrase = re.sub(r\"\\'ll\", \" will\", phrase)\n",
    "    phrase = re.sub(r\"\\'t\", \" not\", phrase)\n",
    "    phrase = re.sub(r\"\\'ve\", \" have\", phrase)\n",
    "    phrase = re.sub(r\"\\'m\", \" am\", phrase)\n",
    "    return phrase"
   ]
  },
  {
   "cell_type": "code",
   "execution_count": 179,
   "id": "48c46e66",
   "metadata": {},
   "outputs": [],
   "source": [
    "stopwords= set(['br', 'the', 'i', 'me', 'my', 'myself', 'we', 'our', 'ours', 'ourselves', 'you', \"you're\", \"you've\",\\\n",
    "            \"you'll\", \"you'd\", 'your', 'yours', 'yourself', 'yourselves', 'he', 'him', 'his', 'himself', \\\n",
    "            'she', \"she's\", 'her', 'hers', 'herself', 'it', \"it's\", 'its', 'itself', 'they', 'them', 'their',\\\n",
    "            'theirs', 'themselves', 'what', 'which', 'who', 'whom', 'this', 'that', \"that'll\", 'these', 'those', \\\n",
    "            'am', 'is', 'are', 'was', 'were', 'be', 'been', 'being', 'have', 'has', 'had', 'having', 'do', 'does', \\\n",
    "            'did', 'doing', 'a', 'an', 'the', 'and', 'but', 'if', 'or', 'because', 'as', 'until', 'while', 'of', \\\n",
    "            'at', 'by', 'for', 'with', 'about', 'against', 'between', 'into', 'through', 'during', 'before', 'after',\\\n",
    "            'above', 'below', 'to', 'from', 'up', 'down', 'in', 'out', 'on', 'off', 'over', 'under', 'again', 'further',\\\n",
    "            'then', 'once', 'here', 'there', 'when', 'where', 'why', 'how', 'all', 'any', 'both', 'each', 'few', 'more',\\\n",
    "            'most', 'other', 'some', 'such', 'only', 'own', 'same', 'so', 'than', 'too', 'very', \\\n",
    "            's', 't', 'can', 'will', 'just', 'don', \"don't\", 'should', \"should've\", 'now', 'd', 'll', 'm', 'o', 're', \\\n",
    "            've', 'y', 'ain', 'aren', \"aren't\", 'couldn', \"couldn't\", 'didn', \"didn't\", 'doesn', \"doesn't\", 'hadn',\\\n",
    "            \"hadn't\", 'hasn', \"hasn't\", 'haven', \"haven't\", 'isn', \"isn't\", 'ma', 'mightn', \"mightn't\", 'mustn',\\\n",
    "            \"mustn't\", 'needn', \"needn't\", 'shan', \"shan't\", 'shouldn', \"shouldn't\", 'wasn', \"wasn't\", 'weren', \"weren't\", \\\n",
    "            'won', \"won't\", 'wouldn', \"wouldn't\"])"
   ]
  },
  {
   "cell_type": "code",
   "execution_count": 181,
   "id": "60f3495d",
   "metadata": {},
   "outputs": [],
   "source": [
    "from tqdm import tqdm\n",
    "preprocessed_plot = []\n",
    "# tqdm is for printing the status bar\n",
    "for sentance in df['plot'].values:\n",
    "    sentance = decontracted(sentance)\n",
    "    sentance = re.sub('[^A-Za-z]+', ' ', sentance)\n",
    "    # https://gist.github.com/sebleier/554280\n",
    "    sentance = ' '.join(e.lower() for e in sentance.split() if e.lower() not in stopwords)\n",
    "    preprocessed_plot.append(sentance.strip())"
   ]
  },
  {
   "cell_type": "code",
   "execution_count": 230,
   "id": "58281023",
   "metadata": {},
   "outputs": [],
   "source": [
    "from tqdm import tqdm\n",
    "preprocessed_plot_test = []\n",
    "# tqdm is for printing the status bar\n",
    "for sentance in df_test['plot'].values:\n",
    "    sentance = decontracted(sentance)\n",
    "    sentance = re.sub('[^A-Za-z]+', ' ', sentance)\n",
    "    # https://gist.github.com/sebleier/554280\n",
    "    sentance = ' '.join(e.lower() for e in sentance.split() if e.lower() not in stopwords)\n",
    "    preprocessed_plot_test.append(sentance.strip())"
   ]
  },
  {
   "cell_type": "code",
   "execution_count": 231,
   "id": "0c3325a0",
   "metadata": {},
   "outputs": [],
   "source": [
    "df_test['preprocessed_plot_test']=preprocessed_plot_test"
   ]
  },
  {
   "cell_type": "code",
   "execution_count": 183,
   "id": "deebb4fe",
   "metadata": {},
   "outputs": [],
   "source": [
    "df['preprocessed_plot']=preprocessed_plot"
   ]
  },
  {
   "cell_type": "code",
   "execution_count": 185,
   "id": "1ce05b6b",
   "metadata": {},
   "outputs": [
    {
     "data": {
      "text/plain": [
       "Index(['year', 'title', 'plot', 'genres', 'rating', 'preprocessed_plot'], dtype='object')"
      ]
     },
     "execution_count": 185,
     "metadata": {},
     "output_type": "execute_result"
    }
   ],
   "source": [
    "df.columns"
   ]
  },
  {
   "cell_type": "code",
   "execution_count": 186,
   "id": "9723d5ba",
   "metadata": {},
   "outputs": [],
   "source": [
    "df['genres'] = df['genres'].map(lambda x: eval(x))"
   ]
  },
  {
   "cell_type": "code",
   "execution_count": 201,
   "id": "7bc20715",
   "metadata": {},
   "outputs": [],
   "source": [
    "le = MultiLabelBinarizer()\n",
    "y_genres = le.fit_transform(dataTraining['genres'])\n",
    "Y= np.array(y_genres)\n",
    "\n",
    "X = df['preprocessed_plot'].values"
   ]
  },
  {
   "cell_type": "code",
   "execution_count": 204,
   "id": "fc4e4741",
   "metadata": {},
   "outputs": [],
   "source": [
    "# Separación de variables predictoras (X) y variable de interés (y) en set de entrenamiento y test usandola función train_test_split\n",
    "x_train, x_test, y_train, y_test = train_test_split(X, Y, test_size=0.3, random_state=42)\n"
   ]
  },
  {
   "cell_type": "code",
   "execution_count": 206,
   "id": "4e84a549",
   "metadata": {},
   "outputs": [
    {
     "data": {
      "text/plain": [
       "1863"
      ]
     },
     "execution_count": 206,
     "metadata": {},
     "output_type": "execute_result"
    }
   ],
   "source": [
    "max(df['plot'].apply(gdd))"
   ]
  },
  {
   "cell_type": "code",
   "execution_count": 207,
   "id": "e203e6b1",
   "metadata": {},
   "outputs": [],
   "source": [
    "vect=Tokenizer()\n",
    "vect.fit_on_texts(df['plot'])\n",
    "vocab_size = len(vect.word_index) + 1"
   ]
  },
  {
   "cell_type": "code",
   "execution_count": 208,
   "id": "ded57e75",
   "metadata": {},
   "outputs": [
    {
     "data": {
      "text/plain": [
       "38707"
      ]
     },
     "execution_count": 208,
     "metadata": {},
     "output_type": "execute_result"
    }
   ],
   "source": [
    "vocab_size"
   ]
  },
  {
   "cell_type": "code",
   "execution_count": 209,
   "id": "27f189fe",
   "metadata": {},
   "outputs": [
    {
     "name": "stdout",
     "output_type": "stream",
     "text": [
      "[[20809   597    70 ...     0     0     0]\n",
      " [  895 22492  2580 ...     0     0     0]\n",
      " [ 1531  2766  2432 ...     0     0     0]\n",
      " ...\n",
      " [ 8894  3515 25493 ...     0     0     0]\n",
      " [ 2766  7610  4056 ...     0     0     0]\n",
      " [  108    49  2678 ...     0     0     0]]\n"
     ]
    }
   ],
   "source": [
    "encoded_docs_train = vect.texts_to_sequences(x_train)\n",
    "max_length = vocab_size\n",
    "padded_docs_train = pad_sequences(encoded_docs_train, maxlen=1200, padding='post')\n",
    "print(padded_docs_train)"
   ]
  },
  {
   "cell_type": "code",
   "execution_count": 210,
   "id": "574b4a9b",
   "metadata": {},
   "outputs": [],
   "source": [
    "encoded_docs_test = vect.texts_to_sequences(x_test)\n",
    "padded_docs_test = pad_sequences(encoded_docs_test, maxlen=1200, padding='post')"
   ]
  },
  {
   "cell_type": "code",
   "execution_count": 234,
   "id": "85600078",
   "metadata": {},
   "outputs": [],
   "source": [
    "encoded_docs_test_k = vect.texts_to_sequences(df_test['preprocessed_plot_test'].values)\n",
    "padded_docs_test_k = pad_sequences(encoded_docs_test_k, maxlen=1200, padding='post')"
   ]
  },
  {
   "cell_type": "code",
   "execution_count": 211,
   "id": "b7862f22",
   "metadata": {},
   "outputs": [],
   "source": [
    "def f1micro(y_true, y_pred):\n",
    "    return tf.py_func(f1_score(y_true, y_pred,average='mirco'),tf.double)"
   ]
  },
  {
   "cell_type": "code",
   "execution_count": 215,
   "id": "6ad9965f",
   "metadata": {},
   "outputs": [],
   "source": [
    "from keras.layers import Dense, Flatten, LSTM, Conv1D, Conv2D, MaxPooling1D, Dropout, Activation,GlobalMaxPool1D\n",
    "from keras.preprocessing.text import Tokenizer\n",
    "#from keras.preprocessing import pad_sequences\n",
    "from keras.models import Sequential\n",
    "from keras.optimizers import Adam\n",
    "from time import time\n",
    "from keras.callbacks import TensorBoard\n",
    "from keras.layers import Dense, Activation, Embedding, Flatten, GlobalMaxPool1D, Dropout, Conv1D\n",
    "from keras.callbacks import ReduceLROnPlateau, EarlyStopping, ModelCheckpoint\n",
    "from keras.losses import binary_crossentropy\n",
    "from keras.optimizers import Adam\n",
    "\n",
    "from keras.layers import Embedding\n",
    "from keras.callbacks import ReduceLROnPlateau"
   ]
  },
  {
   "cell_type": "code",
   "execution_count": 224,
   "id": "cf7ed746",
   "metadata": {
    "scrolled": true
   },
   "outputs": [
    {
     "data": {
      "image/png": "[encoded data removed]",
      "text/plain": [
       "<Figure size 1200x800 with 2 Axes>"
      ]
     },
     "metadata": {},
     "output_type": "display_data"
    },
    {
     "name": "stdout",
     "output_type": "stream",
     "text": [
      "accuracy\n",
      "\ttraining         \t (min:    0.184, max:    0.453, cur:    0.453)\n",
      "\tvalidation       \t (min:    0.194, max:    0.319, cur:    0.315)\n",
      "Loss\n",
      "\ttraining         \t (min:    0.179, max:    0.505, cur:    0.179)\n",
      "\tvalidation       \t (min:    0.248, max:    0.344, cur:    0.248)\n",
      "173/173 [==============================] - 35s 200ms/step - loss: 0.1788 - accuracy: 0.4528 - val_loss: 0.2479 - val_accuracy: 0.3153\n",
      "Epoch 30: early stopping\n"
     ]
    },
    {
     "data": {
      "text/plain": [
       "<keras.callbacks.History at 0x1e89b42de10>"
      ]
     },
     "execution_count": 224,
     "metadata": {},
     "output_type": "execute_result"
    }
   ],
   "source": [
    "#Compilacion del modelo \n",
    "model.compile(optimizer='adam', loss='binary_crossentropy', metrics=['accuracy'])\n",
    "\n",
    "\n",
    "# Early stopping para detener el entrenamiento cuando el modelo deje de mejorar\n",
    "early_stop = EarlyStopping(monitor='val_loss', patience=2, verbose=1)\n",
    "\n",
    "model.fit(padded_docs_train, y_train, validation_data=(padded_docs_test, y_test), epochs=50, callbacks=[early_stop,PlotLossesKeras()])\n",
    "\n"
   ]
  },
  {
   "cell_type": "code",
   "execution_count": 236,
   "id": "a928db09",
   "metadata": {},
   "outputs": [
    {
     "name": "stdout",
     "output_type": "stream",
     "text": [
      "106/106 [==============================] - 2s 16ms/step\n"
     ]
    },
    {
     "data": {
      "text/html": [
       "<div>\n",
       "<style scoped>\n",
       "    .dataframe tbody tr th:only-of-type {\n",
       "        vertical-align: middle;\n",
       "    }\n",
       "\n",
       "    .dataframe tbody tr th {\n",
       "        vertical-align: top;\n",
       "    }\n",
       "\n",
       "    .dataframe thead th {\n",
       "        text-align: right;\n",
       "    }\n",
       "</style>\n",
       "<table border=\"1\" class=\"dataframe\">\n",
       "  <thead>\n",
       "    <tr style=\"text-align: right;\">\n",
       "      <th></th>\n",
       "      <th>p_Action</th>\n",
       "      <th>p_Adventure</th>\n",
       "      <th>p_Animation</th>\n",
       "      <th>p_Biography</th>\n",
       "      <th>p_Comedy</th>\n",
       "      <th>p_Crime</th>\n",
       "      <th>p_Documentary</th>\n",
       "      <th>p_Drama</th>\n",
       "      <th>p_Family</th>\n",
       "      <th>p_Fantasy</th>\n",
       "      <th>...</th>\n",
       "      <th>p_Musical</th>\n",
       "      <th>p_Mystery</th>\n",
       "      <th>p_News</th>\n",
       "      <th>p_Romance</th>\n",
       "      <th>p_Sci-Fi</th>\n",
       "      <th>p_Short</th>\n",
       "      <th>p_Sport</th>\n",
       "      <th>p_Thriller</th>\n",
       "      <th>p_War</th>\n",
       "      <th>p_Western</th>\n",
       "    </tr>\n",
       "  </thead>\n",
       "  <tbody>\n",
       "    <tr>\n",
       "      <th>1</th>\n",
       "      <td>0.064514</td>\n",
       "      <td>0.081663</td>\n",
       "      <td>0.022913</td>\n",
       "      <td>0.036711</td>\n",
       "      <td>0.489977</td>\n",
       "      <td>0.061992</td>\n",
       "      <td>0.008035</td>\n",
       "      <td>0.708454</td>\n",
       "      <td>0.070464</td>\n",
       "      <td>0.137846</td>\n",
       "      <td>...</td>\n",
       "      <td>0.069202</td>\n",
       "      <td>0.044703</td>\n",
       "      <td>0.001428</td>\n",
       "      <td>0.698182</td>\n",
       "      <td>0.052663</td>\n",
       "      <td>0.018618</td>\n",
       "      <td>0.034535</td>\n",
       "      <td>0.120069</td>\n",
       "      <td>0.049874</td>\n",
       "      <td>0.023160</td>\n",
       "    </tr>\n",
       "    <tr>\n",
       "      <th>4</th>\n",
       "      <td>0.013506</td>\n",
       "      <td>0.012920</td>\n",
       "      <td>0.003754</td>\n",
       "      <td>0.153818</td>\n",
       "      <td>0.118373</td>\n",
       "      <td>0.228652</td>\n",
       "      <td>0.098906</td>\n",
       "      <td>0.581966</td>\n",
       "      <td>0.011910</td>\n",
       "      <td>0.014250</td>\n",
       "      <td>...</td>\n",
       "      <td>0.018490</td>\n",
       "      <td>0.298038</td>\n",
       "      <td>0.002568</td>\n",
       "      <td>0.061447</td>\n",
       "      <td>0.047951</td>\n",
       "      <td>0.016996</td>\n",
       "      <td>0.065089</td>\n",
       "      <td>0.321212</td>\n",
       "      <td>0.013395</td>\n",
       "      <td>0.017000</td>\n",
       "    </tr>\n",
       "    <tr>\n",
       "      <th>5</th>\n",
       "      <td>0.112991</td>\n",
       "      <td>0.017614</td>\n",
       "      <td>0.000466</td>\n",
       "      <td>0.016681</td>\n",
       "      <td>0.169018</td>\n",
       "      <td>0.589157</td>\n",
       "      <td>0.000767</td>\n",
       "      <td>0.796836</td>\n",
       "      <td>0.003333</td>\n",
       "      <td>0.006964</td>\n",
       "      <td>...</td>\n",
       "      <td>0.004630</td>\n",
       "      <td>0.309189</td>\n",
       "      <td>0.000044</td>\n",
       "      <td>0.120612</td>\n",
       "      <td>0.014945</td>\n",
       "      <td>0.000178</td>\n",
       "      <td>0.012020</td>\n",
       "      <td>0.677413</td>\n",
       "      <td>0.006287</td>\n",
       "      <td>0.011033</td>\n",
       "    </tr>\n",
       "    <tr>\n",
       "      <th>6</th>\n",
       "      <td>0.092425</td>\n",
       "      <td>0.051942</td>\n",
       "      <td>0.007734</td>\n",
       "      <td>0.092577</td>\n",
       "      <td>0.270361</td>\n",
       "      <td>0.254030</td>\n",
       "      <td>0.027219</td>\n",
       "      <td>0.746760</td>\n",
       "      <td>0.020060</td>\n",
       "      <td>0.034255</td>\n",
       "      <td>...</td>\n",
       "      <td>0.022807</td>\n",
       "      <td>0.094124</td>\n",
       "      <td>0.000704</td>\n",
       "      <td>0.238457</td>\n",
       "      <td>0.028692</td>\n",
       "      <td>0.006613</td>\n",
       "      <td>0.037698</td>\n",
       "      <td>0.284169</td>\n",
       "      <td>0.039026</td>\n",
       "      <td>0.030111</td>\n",
       "    </tr>\n",
       "    <tr>\n",
       "      <th>7</th>\n",
       "      <td>0.155420</td>\n",
       "      <td>0.158726</td>\n",
       "      <td>0.014906</td>\n",
       "      <td>0.008415</td>\n",
       "      <td>0.073031</td>\n",
       "      <td>0.037341</td>\n",
       "      <td>0.011641</td>\n",
       "      <td>0.287012</td>\n",
       "      <td>0.030973</td>\n",
       "      <td>0.144057</td>\n",
       "      <td>...</td>\n",
       "      <td>0.019326</td>\n",
       "      <td>0.190081</td>\n",
       "      <td>0.000355</td>\n",
       "      <td>0.065975</td>\n",
       "      <td>0.441031</td>\n",
       "      <td>0.002404</td>\n",
       "      <td>0.006479</td>\n",
       "      <td>0.406378</td>\n",
       "      <td>0.016694</td>\n",
       "      <td>0.009036</td>\n",
       "    </tr>\n",
       "  </tbody>\n",
       "</table>\n",
       "<p>5 rows × 24 columns</p>\n",
       "</div>"
      ],
      "text/plain": [
       "   p_Action  p_Adventure  p_Animation  p_Biography  p_Comedy   p_Crime  \\\n",
       "1  0.064514     0.081663     0.022913     0.036711  0.489977  0.061992   \n",
       "4  0.013506     0.012920     0.003754     0.153818  0.118373  0.228652   \n",
       "5  0.112991     0.017614     0.000466     0.016681  0.169018  0.589157   \n",
       "6  0.092425     0.051942     0.007734     0.092577  0.270361  0.254030   \n",
       "7  0.155420     0.158726     0.014906     0.008415  0.073031  0.037341   \n",
       "\n",
       "   p_Documentary   p_Drama  p_Family  p_Fantasy  ...  p_Musical  p_Mystery  \\\n",
       "1       0.008035  0.708454  0.070464   0.137846  ...   0.069202   0.044703   \n",
       "4       0.098906  0.581966  0.011910   0.014250  ...   0.018490   0.298038   \n",
       "5       0.000767  0.796836  0.003333   0.006964  ...   0.004630   0.309189   \n",
       "6       0.027219  0.746760  0.020060   0.034255  ...   0.022807   0.094124   \n",
       "7       0.011641  0.287012  0.030973   0.144057  ...   0.019326   0.190081   \n",
       "\n",
       "     p_News  p_Romance  p_Sci-Fi   p_Short   p_Sport  p_Thriller     p_War  \\\n",
       "1  0.001428   0.698182  0.052663  0.018618  0.034535    0.120069  0.049874   \n",
       "4  0.002568   0.061447  0.047951  0.016996  0.065089    0.321212  0.013395   \n",
       "5  0.000044   0.120612  0.014945  0.000178  0.012020    0.677413  0.006287   \n",
       "6  0.000704   0.238457  0.028692  0.006613  0.037698    0.284169  0.039026   \n",
       "7  0.000355   0.065975  0.441031  0.002404  0.006479    0.406378  0.016694   \n",
       "\n",
       "   p_Western  \n",
       "1   0.023160  \n",
       "4   0.017000  \n",
       "5   0.011033  \n",
       "6   0.030111  \n",
       "7   0.009036  \n",
       "\n",
       "[5 rows x 24 columns]"
      ]
     },
     "execution_count": 236,
     "metadata": {},
     "output_type": "execute_result"
    }
   ],
   "source": [
    "# Predicción del conjunto de test\n",
    "y_pred_test_genres = model.predict(padded_docs_test_k)\n",
    "\n",
    "# Guardar predicciones en formato exigido en la competencia de kaggle\n",
    "res = pd.DataFrame(y_pred_test_genres, index=df_test.index, columns=cols)\n",
    "res.to_csv('pred_genres_text_RN_4.csv', index_label='ID')\n",
    "res.head()"
   ]
  },
  {
   "cell_type": "code",
   "execution_count": 275,
   "id": "1a44539b",
   "metadata": {},
   "outputs": [
    {
     "data": {
      "text/plain": [
       "(7895, 991642)"
      ]
     },
     "execution_count": 275,
     "metadata": {},
     "output_type": "execute_result"
    }
   ],
   "source": [
    "# Idf \n",
    "from sklearn.feature_extraction.text import CountVectorizer, TfidfTransformer\n",
    "tfidf_transformer = TfidfTransformer(use_idf=True, smooth_idf=True, sublinear_tf=False) ##Pruebas 2\n",
    "vect = CountVectorizer(ngram_range=(1, 3))##, ngram_range=(1, 2)) # puse bigramas\n",
    "X_dtm_1 = vect.fit_transform(df['preprocessed_plot'])\n",
    "\n",
    "X_dtm = tfidf_transformer.fit_transform(X_dtm_1)\n",
    "X_dtm.shape \n"
   ]
  },
  {
   "cell_type": "code",
   "execution_count": 272,
   "id": "a00fdd51",
   "metadata": {},
   "outputs": [],
   "source": [
    "# Definición de variable de interés (y)\n",
    "dataTraining['genres'] = dataTraining['genres'].map(lambda x: eval(x))\n",
    "le = MultiLabelBinarizer()\n",
    "y_genres = le.fit_transform(dataTraining['genres'])"
   ]
  },
  {
   "cell_type": "code",
   "execution_count": 277,
   "id": "82e448fb",
   "metadata": {},
   "outputs": [],
   "source": [
    "# Separación de variables predictoras (X) y variable de interés (y) en set de entrenamiento y test usandola función train_test_split\n",
    "X_train, X_test, y_train_genres, y_test_genres = train_test_split(X_dtm, y_genres, test_size=0.3, random_state=42)"
   ]
  },
  {
   "cell_type": "code",
   "execution_count": 279,
   "id": "18e58ce2",
   "metadata": {},
   "outputs": [
    {
     "name": "stdout",
     "output_type": "stream",
     "text": [
      "CPU times: total: 2.84 s\n",
      "Wall time: 2min 48s\n"
     ]
    },
    {
     "data": {
      "text/plain": [
       "0.8787867280515181"
      ]
     },
     "execution_count": 279,
     "metadata": {},
     "output_type": "execute_result"
    }
   ],
   "source": [
    "%%time\n",
    "from sklearn.linear_model import LogisticRegression\n",
    "lr = OneVsRestClassifier(LogisticRegression(random_state=123, solver='saga', max_iter=500, C=1, n_jobs=-1, multi_class='ovr')) \n",
    "lr.fit(X_train, y_train_genres)\n",
    "\n",
    "\n",
    "# Predicción del modelo de clasificación\n",
    "y_pred_genres = lr.predict_proba(X_test)\n",
    "\n",
    "# Impresión del desempeño del modelo\n",
    "roc_auc_score(y_test_genres, y_pred_genres, average='macro')\n",
    "\n",
    "# BIgramas nueva limpieza 0.8787805268043926\n",
    "# lr = OneVsRestClassifier(LogisticRegression(random_state=123, solver='saga', max_iter=200, C=1, n_jobs=-1, multi_class='multinomial'))  0.880323932358768"
   ]
  },
  {
   "cell_type": "code",
   "execution_count": 274,
   "id": "4efecab6",
   "metadata": {},
   "outputs": [
    {
     "name": "stdout",
     "output_type": "stream",
     "text": [
      "Fitting 5 folds for each of 135 candidates, totalling 675 fits\n",
      "Los mejores hiperparámetros encontrados son: {'estimator__C': 0.1, 'estimator__max_iter': 100, 'estimator__multi_class': 'auto', 'estimator__solver': 'newton-cg'}\n"
     ]
    },
    {
     "data": {
      "text/plain": [
       "0.8755794804013032"
      ]
     },
     "execution_count": 274,
     "metadata": {},
     "output_type": "execute_result"
    }
   ],
   "source": [
    "from sklearn.model_selection import GridSearchCV\n",
    "from sklearn.multiclass import OneVsRestClassifier\n",
    "from sklearn.linear_model import LogisticRegression\n",
    "\n",
    "# Definir el modelo base\n",
    "base_lr = OneVsRestClassifier(LogisticRegression(random_state=123, solver='saga', max_iter=200, n_jobs=-1, multi_class='multinomial'))\n",
    "\n",
    "# Definir los hiperparámetros que se quieren optimizar\n",
    "param_grid = {\n",
    "    'estimator__C': [0.1, 1, 10], # Puedes modificar esta lista según tus necesidades\n",
    "    'estimator__max_iter': [100, 200, 300], # Puedes modificar esta lista según tus necesidades\n",
    "    'estimator__solver': ['newton-cg', 'lbfgs', 'liblinear', 'sag', 'saga'],\n",
    "    'estimator__multi_class': ['auto', 'ovr', 'multinomial']\n",
    "}\n",
    "\n",
    "# Definir el objeto GridSearch\n",
    "grid_lr = GridSearchCV(base_lr, param_grid, cv=5, scoring='roc_auc', verbose=1, n_jobs=-1)\n",
    "\n",
    "# Realizar la optimización\n",
    "grid_lr.fit(X_train, y_train_genres)\n",
    "\n",
    "# Mostrar los mejores hiperparámetros encontrados\n",
    "print('Los mejores hiperparámetros encontrados son:', grid_lr.best_params_)\n",
    "\n",
    "# Utilizar el mejor modelo para hacer predicciones\n",
    "y_pred_genres = grid_lr.predict_proba(X_test)\n",
    "\n",
    "# Impresión del desempeño del modelo\n",
    "roc_auc_score(y_test_genres, y_pred_genres, average='macro')\n"
   ]
  },
  {
   "cell_type": "code",
   "execution_count": 268,
   "id": "74e3cbb4",
   "metadata": {},
   "outputs": [
    {
     "data": {
      "text/html": [
       "<div>\n",
       "<style scoped>\n",
       "    .dataframe tbody tr th:only-of-type {\n",
       "        vertical-align: middle;\n",
       "    }\n",
       "\n",
       "    .dataframe tbody tr th {\n",
       "        vertical-align: top;\n",
       "    }\n",
       "\n",
       "    .dataframe thead th {\n",
       "        text-align: right;\n",
       "    }\n",
       "</style>\n",
       "<table border=\"1\" class=\"dataframe\">\n",
       "  <thead>\n",
       "    <tr style=\"text-align: right;\">\n",
       "      <th></th>\n",
       "      <th>p_Action</th>\n",
       "      <th>p_Adventure</th>\n",
       "      <th>p_Animation</th>\n",
       "      <th>p_Biography</th>\n",
       "      <th>p_Comedy</th>\n",
       "      <th>p_Crime</th>\n",
       "      <th>p_Documentary</th>\n",
       "      <th>p_Drama</th>\n",
       "      <th>p_Family</th>\n",
       "      <th>p_Fantasy</th>\n",
       "      <th>...</th>\n",
       "      <th>p_Musical</th>\n",
       "      <th>p_Mystery</th>\n",
       "      <th>p_News</th>\n",
       "      <th>p_Romance</th>\n",
       "      <th>p_Sci-Fi</th>\n",
       "      <th>p_Short</th>\n",
       "      <th>p_Sport</th>\n",
       "      <th>p_Thriller</th>\n",
       "      <th>p_War</th>\n",
       "      <th>p_Western</th>\n",
       "    </tr>\n",
       "  </thead>\n",
       "  <tbody>\n",
       "    <tr>\n",
       "      <th>1</th>\n",
       "      <td>0.107993</td>\n",
       "      <td>0.120931</td>\n",
       "      <td>0.026786</td>\n",
       "      <td>0.028795</td>\n",
       "      <td>0.412384</td>\n",
       "      <td>0.129651</td>\n",
       "      <td>0.028328</td>\n",
       "      <td>0.556169</td>\n",
       "      <td>0.056957</td>\n",
       "      <td>0.123398</td>\n",
       "      <td>...</td>\n",
       "      <td>0.036204</td>\n",
       "      <td>0.085839</td>\n",
       "      <td>0.000861</td>\n",
       "      <td>0.606995</td>\n",
       "      <td>0.051897</td>\n",
       "      <td>0.010296</td>\n",
       "      <td>0.024464</td>\n",
       "      <td>0.186797</td>\n",
       "      <td>0.025332</td>\n",
       "      <td>0.029575</td>\n",
       "    </tr>\n",
       "    <tr>\n",
       "      <th>4</th>\n",
       "      <td>0.121123</td>\n",
       "      <td>0.052663</td>\n",
       "      <td>0.026606</td>\n",
       "      <td>0.127361</td>\n",
       "      <td>0.268776</td>\n",
       "      <td>0.268727</td>\n",
       "      <td>0.055869</td>\n",
       "      <td>0.784650</td>\n",
       "      <td>0.041601</td>\n",
       "      <td>0.035401</td>\n",
       "      <td>...</td>\n",
       "      <td>0.030006</td>\n",
       "      <td>0.043895</td>\n",
       "      <td>0.000907</td>\n",
       "      <td>0.110528</td>\n",
       "      <td>0.029886</td>\n",
       "      <td>0.011362</td>\n",
       "      <td>0.031854</td>\n",
       "      <td>0.218139</td>\n",
       "      <td>0.051894</td>\n",
       "      <td>0.030023</td>\n",
       "    </tr>\n",
       "    <tr>\n",
       "      <th>5</th>\n",
       "      <td>0.104734</td>\n",
       "      <td>0.042978</td>\n",
       "      <td>0.016564</td>\n",
       "      <td>0.042146</td>\n",
       "      <td>0.188057</td>\n",
       "      <td>0.603074</td>\n",
       "      <td>0.026319</td>\n",
       "      <td>0.806638</td>\n",
       "      <td>0.028855</td>\n",
       "      <td>0.036651</td>\n",
       "      <td>...</td>\n",
       "      <td>0.023819</td>\n",
       "      <td>0.330399</td>\n",
       "      <td>0.000880</td>\n",
       "      <td>0.177627</td>\n",
       "      <td>0.068650</td>\n",
       "      <td>0.009085</td>\n",
       "      <td>0.022761</td>\n",
       "      <td>0.544786</td>\n",
       "      <td>0.029784</td>\n",
       "      <td>0.023759</td>\n",
       "    </tr>\n",
       "    <tr>\n",
       "      <th>6</th>\n",
       "      <td>0.116723</td>\n",
       "      <td>0.089400</td>\n",
       "      <td>0.017387</td>\n",
       "      <td>0.039502</td>\n",
       "      <td>0.242355</td>\n",
       "      <td>0.085294</td>\n",
       "      <td>0.029001</td>\n",
       "      <td>0.707560</td>\n",
       "      <td>0.047702</td>\n",
       "      <td>0.053304</td>\n",
       "      <td>...</td>\n",
       "      <td>0.032848</td>\n",
       "      <td>0.095028</td>\n",
       "      <td>0.000871</td>\n",
       "      <td>0.308932</td>\n",
       "      <td>0.086685</td>\n",
       "      <td>0.008291</td>\n",
       "      <td>0.031398</td>\n",
       "      <td>0.344843</td>\n",
       "      <td>0.056638</td>\n",
       "      <td>0.019401</td>\n",
       "    </tr>\n",
       "    <tr>\n",
       "      <th>7</th>\n",
       "      <td>0.065682</td>\n",
       "      <td>0.057052</td>\n",
       "      <td>0.022818</td>\n",
       "      <td>0.026520</td>\n",
       "      <td>0.175121</td>\n",
       "      <td>0.131719</td>\n",
       "      <td>0.027649</td>\n",
       "      <td>0.423594</td>\n",
       "      <td>0.049165</td>\n",
       "      <td>0.119286</td>\n",
       "      <td>...</td>\n",
       "      <td>0.025785</td>\n",
       "      <td>0.167721</td>\n",
       "      <td>0.000872</td>\n",
       "      <td>0.185536</td>\n",
       "      <td>0.309426</td>\n",
       "      <td>0.010076</td>\n",
       "      <td>0.017091</td>\n",
       "      <td>0.403164</td>\n",
       "      <td>0.023449</td>\n",
       "      <td>0.020559</td>\n",
       "    </tr>\n",
       "  </tbody>\n",
       "</table>\n",
       "<p>5 rows × 24 columns</p>\n",
       "</div>"
      ],
      "text/plain": [
       "   p_Action  p_Adventure  p_Animation  p_Biography  p_Comedy   p_Crime  \\\n",
       "1  0.107993     0.120931     0.026786     0.028795  0.412384  0.129651   \n",
       "4  0.121123     0.052663     0.026606     0.127361  0.268776  0.268727   \n",
       "5  0.104734     0.042978     0.016564     0.042146  0.188057  0.603074   \n",
       "6  0.116723     0.089400     0.017387     0.039502  0.242355  0.085294   \n",
       "7  0.065682     0.057052     0.022818     0.026520  0.175121  0.131719   \n",
       "\n",
       "   p_Documentary   p_Drama  p_Family  p_Fantasy  ...  p_Musical  p_Mystery  \\\n",
       "1       0.028328  0.556169  0.056957   0.123398  ...   0.036204   0.085839   \n",
       "4       0.055869  0.784650  0.041601   0.035401  ...   0.030006   0.043895   \n",
       "5       0.026319  0.806638  0.028855   0.036651  ...   0.023819   0.330399   \n",
       "6       0.029001  0.707560  0.047702   0.053304  ...   0.032848   0.095028   \n",
       "7       0.027649  0.423594  0.049165   0.119286  ...   0.025785   0.167721   \n",
       "\n",
       "     p_News  p_Romance  p_Sci-Fi   p_Short   p_Sport  p_Thriller     p_War  \\\n",
       "1  0.000861   0.606995  0.051897  0.010296  0.024464    0.186797  0.025332   \n",
       "4  0.000907   0.110528  0.029886  0.011362  0.031854    0.218139  0.051894   \n",
       "5  0.000880   0.177627  0.068650  0.009085  0.022761    0.544786  0.029784   \n",
       "6  0.000871   0.308932  0.086685  0.008291  0.031398    0.344843  0.056638   \n",
       "7  0.000872   0.185536  0.309426  0.010076  0.017091    0.403164  0.023449   \n",
       "\n",
       "   p_Western  \n",
       "1   0.029575  \n",
       "4   0.030023  \n",
       "5   0.023759  \n",
       "6   0.019401  \n",
       "7   0.020559  \n",
       "\n",
       "[5 rows x 24 columns]"
      ]
     },
     "execution_count": 268,
     "metadata": {},
     "output_type": "execute_result"
    }
   ],
   "source": [
    "# transformac\n",
    "#%%time\n",
    "\n",
    "# transformación variión variables predictoras X del conjunto de test\n",
    "X_test_dtm_1 = vect.transform(df_test['preprocessed_plot_test'])\n",
    "X_test_dtm = tfidf_transformer.transform(X_test_dtm_1)\n",
    "\n",
    "cols = ['p_Action', 'p_Adventure', 'p_Animation', 'p_Biography', 'p_Comedy', 'p_Crime', 'p_Documentary', 'p_Drama', 'p_Family',\n",
    "        'p_Fantasy', 'p_Film-Noir', 'p_History', 'p_Horror', 'p_Music', 'p_Musical', 'p_Mystery', 'p_News', 'p_Romance',\n",
    "        'p_Sci-Fi', 'p_Short', 'p_Sport', 'p_Thriller', 'p_War', 'p_Western']\n",
    "\n",
    "# Predicción del conjunto de test\n",
    "y_pred_test_genres = lr.predict_proba(X_test_dtm)\n",
    "\n",
    "# Guardar predicciones en formato exigido en la competencia de kaggle\n",
    "res = pd.DataFrame(y_pred_test_genres, index=dataTesting.index, columns=cols)\n",
    "res.to_csv('pred_genres_text_LR_TIDF.csv', index_label='ID')\n",
    "res.head()"
   ]
  }
 ],
 "metadata": {
  "kernelspec": {
   "display_name": "Python 3 (ipykernel)",
   "language": "python",
   "name": "python3"
  },
  "language_info": {
   "codemirror_mode": {
    "name": "ipython",
    "version": 3
   },
   "file_extension": ".py",
   "mimetype": "text/x-python",
   "name": "python",
   "nbconvert_exporter": "python",
   "pygments_lexer": "ipython3",
   "version": "3.10.9"
  }
 },
 "nbformat": 4,
 "nbformat_minor": 5
}
